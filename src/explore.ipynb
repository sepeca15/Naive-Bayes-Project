{
    "cells": [
        {
            "cell_type": "markdown",
            "metadata": {},
            "source": [
                "# Naive Bayes project"
            ]
        },
        {
            "cell_type": "code",
            "execution_count": 67,
            "metadata": {},
            "outputs": [],
            "source": [
                "# Import libraries\n",
                "\n",
                "import pandas as pd\n",
                "import numpy as np\n",
                "import matplotlib.pyplot as plt\n",
                "%matplotlib inline \n",
                "\n",
                "from sklearn.model_selection import train_test_split\n",
                "from sklearn.feature_extraction.text import TfidfVectorizer\n",
                "from sklearn.feature_extraction.text import TfidfTransformer\n",
                "from sklearn.feature_extraction.text import CountVectorizer\n",
                "from sklearn.naive_bayes import MultinomialNB\n",
                "from sklearn.pipeline import Pipeline\n",
                "from sklearn import metrics\n",
                "from sklearn.metrics import precision_recall_fscore_support\n",
                "from sklearn.metrics import confusion_matrix\n",
                "from sklearn.model_selection import RandomizedSearchCV\n",
                "from sklearn.metrics import classification_report\n",
                "import pickle"
            ]
        },
        {
            "cell_type": "code",
            "execution_count": 2,
            "metadata": {},
            "outputs": [],
            "source": [
                "# Read csv\n",
                "\n",
                "df_raw = pd.read_csv('https://raw.githubusercontent.com/4GeeksAcademy/naive-bayes-project-tutorial/main/playstore_reviews_dataset.csv')"
            ]
        },
        {
            "cell_type": "code",
            "execution_count": 3,
            "metadata": {},
            "outputs": [
                {
                    "name": "stdout",
                    "output_type": "stream",
                    "text": [
                        "<class 'pandas.core.frame.DataFrame'>\n",
                        "RangeIndex: 891 entries, 0 to 890\n",
                        "Data columns (total 3 columns):\n",
                        " #   Column        Non-Null Count  Dtype \n",
                        "---  ------        --------------  ----- \n",
                        " 0   package_name  891 non-null    object\n",
                        " 1   review        891 non-null    object\n",
                        " 2   polarity      891 non-null    int64 \n",
                        "dtypes: int64(1), object(2)\n",
                        "memory usage: 21.0+ KB\n"
                    ]
                }
            ],
            "source": [
                "df_raw.info()"
            ]
        },
        {
            "cell_type": "code",
            "execution_count": 4,
            "metadata": {},
            "outputs": [
                {
                    "data": {
                        "text/html": [
                            "<div>\n",
                            "<style scoped>\n",
                            "    .dataframe tbody tr th:only-of-type {\n",
                            "        vertical-align: middle;\n",
                            "    }\n",
                            "\n",
                            "    .dataframe tbody tr th {\n",
                            "        vertical-align: top;\n",
                            "    }\n",
                            "\n",
                            "    .dataframe thead th {\n",
                            "        text-align: right;\n",
                            "    }\n",
                            "</style>\n",
                            "<table border=\"1\" class=\"dataframe\">\n",
                            "  <thead>\n",
                            "    <tr style=\"text-align: right;\">\n",
                            "      <th></th>\n",
                            "      <th>package_name</th>\n",
                            "      <th>review</th>\n",
                            "      <th>polarity</th>\n",
                            "    </tr>\n",
                            "  </thead>\n",
                            "  <tbody>\n",
                            "    <tr>\n",
                            "      <th>878</th>\n",
                            "      <td>com.rovio.angrybirds</td>\n",
                            "      <td>good time waster. good fun, but getting old a...</td>\n",
                            "      <td>1</td>\n",
                            "    </tr>\n",
                            "    <tr>\n",
                            "      <th>859</th>\n",
                            "      <td>com.rovio.angrybirds</td>\n",
                            "      <td>way to ruin it. this game was good at one poi...</td>\n",
                            "      <td>0</td>\n",
                            "    </tr>\n",
                            "    <tr>\n",
                            "      <th>646</th>\n",
                            "      <td>com.uc.browser.en</td>\n",
                            "      <td>great! keep it up! i've been using uc mini fo...</td>\n",
                            "      <td>1</td>\n",
                            "    </tr>\n",
                            "    <tr>\n",
                            "      <th>251</th>\n",
                            "      <td>com.android.chrome</td>\n",
                            "      <td>unbelievably bad support by google for their...</td>\n",
                            "      <td>0</td>\n",
                            "    </tr>\n",
                            "    <tr>\n",
                            "      <th>135</th>\n",
                            "      <td>com.king.candycrushsaga</td>\n",
                            "      <td>simple fun game this is the type of game that...</td>\n",
                            "      <td>1</td>\n",
                            "    </tr>\n",
                            "  </tbody>\n",
                            "</table>\n",
                            "</div>"
                        ],
                        "text/plain": [
                            "                package_name  \\\n",
                            "878     com.rovio.angrybirds   \n",
                            "859     com.rovio.angrybirds   \n",
                            "646        com.uc.browser.en   \n",
                            "251       com.android.chrome   \n",
                            "135  com.king.candycrushsaga   \n",
                            "\n",
                            "                                                review  polarity  \n",
                            "878   good time waster. good fun, but getting old a...         1  \n",
                            "859   way to ruin it. this game was good at one poi...         0  \n",
                            "646   great! keep it up! i've been using uc mini fo...         1  \n",
                            "251    unbelievably bad support by google for their...         0  \n",
                            "135   simple fun game this is the type of game that...         1  "
                        ]
                    },
                    "execution_count": 4,
                    "metadata": {},
                    "output_type": "execute_result"
                }
            ],
            "source": [
                "df_raw.sample(5)"
            ]
        },
        {
            "cell_type": "code",
            "execution_count": 5,
            "metadata": {},
            "outputs": [
                {
                    "data": {
                        "text/plain": [
                            "0    584\n",
                            "1    307\n",
                            "Name: polarity, dtype: int64"
                        ]
                    },
                    "execution_count": 5,
                    "metadata": {},
                    "output_type": "execute_result"
                }
            ],
            "source": [
                "df_raw['polarity'].value_counts()"
            ]
        },
        {
            "cell_type": "markdown",
            "metadata": {},
            "source": [
                "**1. Transform dataframe**"
            ]
        },
        {
            "cell_type": "code",
            "execution_count": 6,
            "metadata": {},
            "outputs": [],
            "source": [
                "df_transf = df_raw.copy()"
            ]
        },
        {
            "cell_type": "code",
            "execution_count": 7,
            "metadata": {},
            "outputs": [],
            "source": [
                "# Drop package_name column\n",
                "# \n",
                "df_transf = df_transf.drop('package_name', axis=1)"
            ]
        },
        {
            "cell_type": "code",
            "execution_count": 8,
            "metadata": {},
            "outputs": [],
            "source": [
                "\n",
                "df_transf['review'] = df_transf['review'].str.strip()\n",
                "\n",
                "# elimina espacio libre al principio y al final"
            ]
        },
        {
            "cell_type": "code",
            "execution_count": 9,
            "metadata": {},
            "outputs": [],
            "source": [
                "# column review to lower case\n",
                "\n",
                "df_transf['review'] = df_transf['review'].str.lower()"
            ]
        },
        {
            "cell_type": "code",
            "execution_count": 10,
            "metadata": {},
            "outputs": [],
            "source": [
                "df = df_transf.copy()"
            ]
        },
        {
            "cell_type": "markdown",
            "metadata": {},
            "source": [
                "**2. Split data frame**"
            ]
        },
        {
            "cell_type": "code",
            "execution_count": 13,
            "metadata": {},
            "outputs": [],
            "source": [
                "X = df['review']\n",
                "y = df['polarity']\n",
                "\n",
                "X_train, X_test, y_train, y_test = train_test_split(X, y, stratify=y, random_state=25)\n"
            ]
        },
        {
            "cell_type": "code",
            "execution_count": 14,
            "metadata": {},
            "outputs": [
                {
                    "data": {
                        "text/plain": [
                            "0    438\n",
                            "1    230\n",
                            "Name: polarity, dtype: int64"
                        ]
                    },
                    "execution_count": 14,
                    "metadata": {},
                    "output_type": "execute_result"
                }
            ],
            "source": [
                "y_train.value_counts()"
            ]
        },
        {
            "cell_type": "code",
            "execution_count": 15,
            "metadata": {},
            "outputs": [
                {
                    "data": {
                        "text/plain": [
                            "0    146\n",
                            "1     77\n",
                            "Name: polarity, dtype: int64"
                        ]
                    },
                    "execution_count": 15,
                    "metadata": {},
                    "output_type": "execute_result"
                }
            ],
            "source": [
                "y_test.value_counts()"
            ]
        },
        {
            "cell_type": "markdown",
            "metadata": {},
            "source": [
                "**3. Pipeline with two pre-processing steps and one modeling step**"
            ]
        },
        {
            "cell_type": "code",
            "execution_count": 22,
            "metadata": {},
            "outputs": [],
            "source": [
                "vect = CountVectorizer() # vector de conteo\n",
                "\n",
                "text_vec = vect.fit_transform(X_train)"
            ]
        },
        {
            "cell_type": "code",
            "execution_count": 24,
            "metadata": {},
            "outputs": [
                {
                    "data": {
                        "text/plain": [
                            "array(['000', '10', '100', ..., 'žŕľ', 'ˇŕ', 'ˇŕľ'], dtype=object)"
                        ]
                    },
                    "execution_count": 24,
                    "metadata": {},
                    "output_type": "execute_result"
                }
            ],
            "source": [
                "vect.get_feature_names_out()"
            ]
        },
        {
            "cell_type": "code",
            "execution_count": 43,
            "metadata": {},
            "outputs": [],
            "source": [
                "# text_vec.toarray()[0]"
            ]
        },
        {
            "cell_type": "code",
            "execution_count": 44,
            "metadata": {},
            "outputs": [],
            "source": [
                "vect_tfidf = TfidfVectorizer()\n",
                "\n",
                "text_vec_tfidf = vect_tfidf.fit_transform(X_train)"
            ]
        },
        {
            "cell_type": "code",
            "execution_count": 32,
            "metadata": {},
            "outputs": [
                {
                    "data": {
                        "text/plain": [
                            "array([0.        , 0.        , 0.        , 0.        , 0.        ,\n",
                            "       0.        , 0.        , 0.        , 0.        , 0.        ,\n",
                            "       0.        , 0.        , 0.        , 0.        , 0.        ,\n",
                            "       0.        , 0.        , 0.        , 0.        , 0.        ,\n",
                            "       0.        , 0.        , 0.        , 0.        , 0.        ,\n",
                            "       0.        , 0.        , 0.        , 0.        , 0.        ,\n",
                            "       0.        , 0.        , 0.        , 0.        , 0.        ,\n",
                            "       0.        , 0.        , 0.        , 0.        , 0.        ,\n",
                            "       0.        , 0.        , 0.        , 0.        , 0.        ,\n",
                            "       0.        , 0.        , 0.        , 0.        , 0.        ,\n",
                            "       0.        , 0.        , 0.        , 0.        , 0.        ,\n",
                            "       0.        , 0.        , 0.        , 0.        , 0.        ,\n",
                            "       0.        , 0.        , 0.        , 0.        , 0.        ,\n",
                            "       0.        , 0.        , 0.        , 0.        , 0.        ,\n",
                            "       0.        , 0.        , 0.        , 0.        , 0.        ,\n",
                            "       0.        , 0.        , 0.        , 0.        , 0.        ,\n",
                            "       0.        , 0.        , 0.        , 0.        , 0.        ,\n",
                            "       0.        , 0.        , 0.        , 0.        , 0.        ,\n",
                            "       0.        , 0.        , 0.        , 0.        , 0.        ,\n",
                            "       0.        , 0.        , 0.        , 0.        , 0.        ,\n",
                            "       0.        , 0.        , 0.        , 0.        , 0.        ,\n",
                            "       0.        , 0.        , 0.        , 0.        , 0.        ,\n",
                            "       0.        , 0.        , 0.        , 0.        , 0.        ,\n",
                            "       0.        , 0.        , 0.        , 0.        , 0.        ,\n",
                            "       0.        , 0.        , 0.        , 0.        , 0.        ,\n",
                            "       0.        , 0.        , 0.        , 0.        , 0.        ,\n",
                            "       0.        , 0.        , 0.        , 0.        , 0.        ,\n",
                            "       0.        , 0.        , 0.        , 0.        , 0.        ,\n",
                            "       0.        , 0.        , 0.        , 0.        , 0.        ,\n",
                            "       0.        , 0.        , 0.        , 0.        , 0.        ,\n",
                            "       0.        , 0.        , 0.        , 0.        , 0.        ,\n",
                            "       0.        , 0.        , 0.        , 0.        , 0.        ,\n",
                            "       0.        , 0.        , 0.        , 0.        , 0.        ,\n",
                            "       0.        , 0.        , 0.        , 0.        , 0.        ,\n",
                            "       0.        , 0.        , 0.        , 0.        , 0.11505785,\n",
                            "       0.        , 0.        , 0.        , 0.        , 0.        ,\n",
                            "       0.        , 0.        , 0.        , 0.        , 0.        ,\n",
                            "       0.        , 0.        , 0.        , 0.        , 0.        ,\n",
                            "       0.        , 0.        , 0.        , 0.        , 0.        ,\n",
                            "       0.        , 0.        , 0.        , 0.        , 0.        ,\n",
                            "       0.        , 0.        , 0.        , 0.        , 0.        ,\n",
                            "       0.        , 0.        , 0.        , 0.        , 0.        ,\n",
                            "       0.        , 0.        , 0.        , 0.        , 0.        ,\n",
                            "       0.        , 0.        , 0.        , 0.        , 0.        ,\n",
                            "       0.        , 0.        , 0.        , 0.        , 0.        ,\n",
                            "       0.        , 0.        , 0.        , 0.        , 0.        ,\n",
                            "       0.        , 0.        , 0.        , 0.        , 0.        ,\n",
                            "       0.        , 0.        , 0.        , 0.        , 0.        ,\n",
                            "       0.        , 0.        , 0.        , 0.        , 0.        ,\n",
                            "       0.        , 0.        , 0.        , 0.        , 0.        ,\n",
                            "       0.        , 0.        , 0.        , 0.        , 0.        ,\n",
                            "       0.        , 0.        , 0.        , 0.        , 0.        ,\n",
                            "       0.        , 0.        , 0.        , 0.        , 0.        ,\n",
                            "       0.        , 0.        , 0.        , 0.        , 0.        ,\n",
                            "       0.        , 0.        , 0.        , 0.        , 0.        ,\n",
                            "       0.        , 0.        , 0.        , 0.        , 0.        ,\n",
                            "       0.        , 0.        , 0.        , 0.        , 0.        ,\n",
                            "       0.        , 0.        , 0.        , 0.        , 0.        ,\n",
                            "       0.        , 0.        , 0.        , 0.        , 0.        ,\n",
                            "       0.        , 0.        , 0.        , 0.        , 0.        ,\n",
                            "       0.        , 0.        , 0.        , 0.        , 0.        ,\n",
                            "       0.        , 0.        , 0.        , 0.        , 0.        ,\n",
                            "       0.        , 0.        , 0.        , 0.        , 0.        ,\n",
                            "       0.        , 0.        , 0.        , 0.        , 0.        ,\n",
                            "       0.        , 0.        , 0.        , 0.        , 0.        ,\n",
                            "       0.        , 0.        , 0.        , 0.        , 0.        ,\n",
                            "       0.        , 0.        , 0.        , 0.29701858, 0.        ,\n",
                            "       0.        , 0.        , 0.        , 0.        , 0.        ,\n",
                            "       0.        , 0.        , 0.        , 0.        , 0.        ,\n",
                            "       0.        , 0.        , 0.        , 0.        , 0.        ,\n",
                            "       0.        , 0.        , 0.        , 0.        , 0.        ,\n",
                            "       0.        , 0.        , 0.        , 0.        , 0.        ,\n",
                            "       0.        , 0.        , 0.        , 0.        , 0.        ,\n",
                            "       0.        , 0.        , 0.        , 0.        , 0.        ,\n",
                            "       0.        , 0.        , 0.        , 0.        , 0.        ,\n",
                            "       0.        , 0.        , 0.        , 0.        , 0.        ,\n",
                            "       0.        , 0.        , 0.        , 0.        , 0.        ,\n",
                            "       0.        , 0.        , 0.        , 0.        , 0.        ,\n",
                            "       0.        , 0.        , 0.        , 0.        , 0.        ,\n",
                            "       0.        , 0.        , 0.        , 0.        , 0.        ,\n",
                            "       0.        , 0.        , 0.        , 0.        , 0.        ,\n",
                            "       0.        , 0.        , 0.        , 0.        , 0.        ,\n",
                            "       0.        , 0.        , 0.        , 0.        , 0.        ,\n",
                            "       0.        , 0.        , 0.        , 0.        , 0.        ,\n",
                            "       0.        , 0.        , 0.        , 0.        , 0.        ,\n",
                            "       0.        , 0.        , 0.        , 0.        , 0.        ,\n",
                            "       0.        , 0.48894176, 0.        , 0.37343268, 0.        ,\n",
                            "       0.        , 0.        , 0.        , 0.        , 0.        ,\n",
                            "       0.        , 0.        , 0.        , 0.        , 0.        ,\n",
                            "       0.        , 0.        , 0.        , 0.        , 0.        ,\n",
                            "       0.        , 0.        , 0.        , 0.        , 0.        ,\n",
                            "       0.        , 0.        , 0.        , 0.        , 0.        ,\n",
                            "       0.        , 0.        , 0.        , 0.        , 0.        ,\n",
                            "       0.        , 0.        , 0.        , 0.        , 0.        ,\n",
                            "       0.        , 0.        , 0.        , 0.        , 0.        ,\n",
                            "       0.        , 0.        , 0.        , 0.        , 0.        ,\n",
                            "       0.        , 0.        , 0.        , 0.        , 0.        ,\n",
                            "       0.        , 0.        , 0.        , 0.        , 0.        ,\n",
                            "       0.        , 0.        , 0.        , 0.        , 0.        ,\n",
                            "       0.        , 0.        , 0.        , 0.        , 0.        ,\n",
                            "       0.        , 0.        , 0.        , 0.        , 0.        ,\n",
                            "       0.        , 0.        , 0.        , 0.        , 0.        ,\n",
                            "       0.        , 0.        , 0.        , 0.        , 0.        ,\n",
                            "       0.        , 0.        , 0.        , 0.        , 0.        ,\n",
                            "       0.        , 0.        , 0.        , 0.        , 0.        ,\n",
                            "       0.        , 0.        , 0.        , 0.        , 0.        ,\n",
                            "       0.        , 0.        , 0.        , 0.        , 0.        ,\n",
                            "       0.        , 0.        , 0.        , 0.        , 0.        ,\n",
                            "       0.        , 0.        , 0.        , 0.        , 0.        ,\n",
                            "       0.        , 0.        , 0.        , 0.        , 0.        ,\n",
                            "       0.        , 0.        , 0.        , 0.        , 0.        ,\n",
                            "       0.        , 0.        , 0.        , 0.        , 0.        ,\n",
                            "       0.        , 0.        , 0.        , 0.        , 0.        ,\n",
                            "       0.        , 0.        , 0.        , 0.        , 0.        ,\n",
                            "       0.        , 0.        , 0.        , 0.        , 0.        ,\n",
                            "       0.        , 0.        , 0.        , 0.        , 0.        ,\n",
                            "       0.        , 0.        , 0.        , 0.        , 0.        ,\n",
                            "       0.        , 0.        , 0.        , 0.        , 0.        ,\n",
                            "       0.        , 0.        , 0.        , 0.        , 0.        ,\n",
                            "       0.        , 0.        , 0.        , 0.        , 0.        ,\n",
                            "       0.        , 0.        , 0.        , 0.        , 0.        ,\n",
                            "       0.        , 0.        , 0.        , 0.        , 0.        ,\n",
                            "       0.        , 0.        , 0.        , 0.        , 0.        ,\n",
                            "       0.        , 0.        , 0.        , 0.        , 0.        ,\n",
                            "       0.        , 0.        , 0.        , 0.        , 0.        ,\n",
                            "       0.        , 0.        , 0.        , 0.        , 0.        ,\n",
                            "       0.        , 0.        , 0.        , 0.        , 0.        ,\n",
                            "       0.        , 0.        , 0.        , 0.        , 0.        ,\n",
                            "       0.        , 0.        , 0.        , 0.        , 0.        ,\n",
                            "       0.        , 0.        , 0.        , 0.        , 0.        ,\n",
                            "       0.        , 0.        , 0.        , 0.        , 0.        ,\n",
                            "       0.        , 0.        , 0.        , 0.        , 0.        ,\n",
                            "       0.        , 0.        , 0.        , 0.        , 0.        ,\n",
                            "       0.        , 0.        , 0.        , 0.        , 0.        ,\n",
                            "       0.        , 0.        , 0.        , 0.        , 0.        ,\n",
                            "       0.        , 0.        , 0.        , 0.        , 0.        ,\n",
                            "       0.        , 0.        , 0.        , 0.        , 0.        ,\n",
                            "       0.        , 0.        , 0.        , 0.        , 0.        ,\n",
                            "       0.        , 0.        , 0.        , 0.        , 0.        ,\n",
                            "       0.        , 0.        , 0.        , 0.        , 0.        ,\n",
                            "       0.        , 0.        , 0.        , 0.        , 0.        ,\n",
                            "       0.        , 0.        , 0.        , 0.        , 0.        ,\n",
                            "       0.        , 0.        , 0.        , 0.        , 0.        ,\n",
                            "       0.        , 0.        , 0.        , 0.        , 0.        ,\n",
                            "       0.        , 0.        , 0.        , 0.        , 0.        ,\n",
                            "       0.        , 0.        , 0.        , 0.        , 0.        ,\n",
                            "       0.        , 0.        , 0.        , 0.        , 0.        ,\n",
                            "       0.        , 0.        , 0.        , 0.        , 0.        ,\n",
                            "       0.        , 0.        , 0.        , 0.        , 0.        ,\n",
                            "       0.        , 0.        , 0.        , 0.        , 0.        ,\n",
                            "       0.        , 0.        , 0.        , 0.        , 0.        ,\n",
                            "       0.        , 0.        , 0.        , 0.        , 0.        ,\n",
                            "       0.        , 0.        , 0.        , 0.        , 0.        ,\n",
                            "       0.        , 0.        , 0.        , 0.        , 0.        ,\n",
                            "       0.        , 0.        , 0.        , 0.        , 0.        ,\n",
                            "       0.        , 0.        , 0.        , 0.        , 0.        ,\n",
                            "       0.        , 0.        , 0.        , 0.        , 0.        ,\n",
                            "       0.        , 0.        , 0.        , 0.        , 0.        ,\n",
                            "       0.        , 0.        , 0.        , 0.        , 0.        ,\n",
                            "       0.        , 0.        , 0.        , 0.        , 0.        ,\n",
                            "       0.        , 0.        , 0.        , 0.        , 0.        ,\n",
                            "       0.        , 0.        , 0.        , 0.        , 0.        ,\n",
                            "       0.        , 0.        , 0.        , 0.        , 0.        ,\n",
                            "       0.        , 0.        , 0.        , 0.        , 0.        ,\n",
                            "       0.        , 0.        , 0.        , 0.        , 0.        ,\n",
                            "       0.        , 0.        , 0.        , 0.        , 0.        ,\n",
                            "       0.        , 0.        , 0.        , 0.        , 0.        ,\n",
                            "       0.        , 0.        , 0.        , 0.        , 0.        ,\n",
                            "       0.        , 0.        , 0.        , 0.        , 0.        ,\n",
                            "       0.        , 0.        , 0.        , 0.        , 0.        ,\n",
                            "       0.        , 0.        , 0.        , 0.        , 0.        ,\n",
                            "       0.        , 0.        , 0.        , 0.        , 0.        ,\n",
                            "       0.        , 0.        , 0.        , 0.        , 0.        ,\n",
                            "       0.        , 0.        , 0.        , 0.        , 0.        ,\n",
                            "       0.        , 0.        , 0.        , 0.        , 0.        ,\n",
                            "       0.        , 0.        , 0.        , 0.        , 0.        ,\n",
                            "       0.        , 0.        , 0.        , 0.        , 0.        ,\n",
                            "       0.        , 0.        , 0.        , 0.        , 0.        ,\n",
                            "       0.        , 0.        , 0.        , 0.        , 0.        ,\n",
                            "       0.        , 0.        , 0.        , 0.        , 0.        ,\n",
                            "       0.        , 0.        , 0.        , 0.        , 0.        ,\n",
                            "       0.        , 0.        , 0.        , 0.        , 0.        ,\n",
                            "       0.        , 0.        , 0.        , 0.        , 0.        ,\n",
                            "       0.        , 0.        , 0.        , 0.        , 0.        ,\n",
                            "       0.        , 0.        , 0.        , 0.        , 0.        ,\n",
                            "       0.        , 0.        , 0.        , 0.        , 0.        ,\n",
                            "       0.        , 0.        , 0.        , 0.        , 0.        ,\n",
                            "       0.        , 0.        , 0.        , 0.        , 0.        ,\n",
                            "       0.        , 0.        , 0.        , 0.        , 0.        ,\n",
                            "       0.        , 0.        , 0.        , 0.        , 0.        ,\n",
                            "       0.        , 0.        , 0.        , 0.        , 0.        ,\n",
                            "       0.        , 0.        , 0.        , 0.        , 0.        ,\n",
                            "       0.        , 0.        , 0.        , 0.        , 0.        ,\n",
                            "       0.        , 0.        , 0.        , 0.        , 0.        ,\n",
                            "       0.        , 0.        , 0.        , 0.        , 0.        ,\n",
                            "       0.        , 0.        , 0.        , 0.        , 0.        ,\n",
                            "       0.        , 0.        , 0.        , 0.        , 0.        ,\n",
                            "       0.        , 0.        , 0.        , 0.        , 0.        ,\n",
                            "       0.        , 0.        , 0.        , 0.        , 0.        ,\n",
                            "       0.        , 0.        , 0.        , 0.        , 0.        ,\n",
                            "       0.        , 0.        , 0.        , 0.        , 0.        ,\n",
                            "       0.        , 0.        , 0.        , 0.        , 0.        ,\n",
                            "       0.        , 0.        , 0.        , 0.        , 0.        ,\n",
                            "       0.        , 0.        , 0.        , 0.        , 0.        ,\n",
                            "       0.        , 0.        , 0.        , 0.        , 0.        ,\n",
                            "       0.        , 0.        , 0.        , 0.        , 0.        ,\n",
                            "       0.        , 0.        , 0.        , 0.        , 0.        ,\n",
                            "       0.        , 0.        , 0.        , 0.        , 0.        ,\n",
                            "       0.        , 0.        , 0.        , 0.        , 0.        ,\n",
                            "       0.        , 0.        , 0.        , 0.        , 0.        ,\n",
                            "       0.        , 0.        , 0.        , 0.        , 0.        ,\n",
                            "       0.        , 0.        , 0.        , 0.        , 0.        ,\n",
                            "       0.        , 0.        , 0.        , 0.        , 0.        ,\n",
                            "       0.        , 0.        , 0.        , 0.        , 0.        ,\n",
                            "       0.        , 0.        , 0.        , 0.        , 0.        ,\n",
                            "       0.        , 0.        , 0.        , 0.        , 0.        ,\n",
                            "       0.        , 0.        , 0.        , 0.        , 0.        ,\n",
                            "       0.        , 0.        , 0.        , 0.        , 0.        ,\n",
                            "       0.        , 0.        , 0.        , 0.        , 0.        ,\n",
                            "       0.        , 0.        , 0.        , 0.        , 0.        ,\n",
                            "       0.        , 0.        , 0.        , 0.        , 0.        ,\n",
                            "       0.        , 0.        , 0.        , 0.        , 0.        ,\n",
                            "       0.        , 0.        , 0.        , 0.        , 0.        ,\n",
                            "       0.        , 0.        , 0.        , 0.        , 0.        ,\n",
                            "       0.        , 0.        , 0.        , 0.        , 0.        ,\n",
                            "       0.        , 0.        , 0.        , 0.        , 0.        ,\n",
                            "       0.        , 0.        , 0.        , 0.        , 0.        ,\n",
                            "       0.        , 0.        , 0.        , 0.        , 0.        ,\n",
                            "       0.        , 0.        , 0.        , 0.        , 0.        ,\n",
                            "       0.        , 0.        , 0.        , 0.        , 0.        ,\n",
                            "       0.        , 0.        , 0.        , 0.        , 0.        ,\n",
                            "       0.        , 0.        , 0.        , 0.        , 0.        ,\n",
                            "       0.        , 0.        , 0.        , 0.        , 0.        ,\n",
                            "       0.        , 0.        , 0.        , 0.        , 0.        ,\n",
                            "       0.        , 0.        , 0.        , 0.        , 0.        ,\n",
                            "       0.        , 0.        , 0.        , 0.        , 0.        ,\n",
                            "       0.        , 0.        , 0.        , 0.        , 0.        ,\n",
                            "       0.        , 0.        , 0.        , 0.        , 0.        ,\n",
                            "       0.        , 0.        , 0.        , 0.        , 0.        ,\n",
                            "       0.        , 0.        , 0.        , 0.        , 0.        ,\n",
                            "       0.        , 0.        , 0.        , 0.        , 0.        ,\n",
                            "       0.        , 0.        , 0.        , 0.        , 0.        ,\n",
                            "       0.        , 0.        , 0.        , 0.        , 0.        ,\n",
                            "       0.        , 0.        , 0.        , 0.        , 0.        ,\n",
                            "       0.        , 0.        , 0.        , 0.        , 0.        ,\n",
                            "       0.        , 0.        , 0.        , 0.        , 0.        ,\n",
                            "       0.        , 0.        , 0.        , 0.        , 0.        ,\n",
                            "       0.        , 0.        , 0.        , 0.        , 0.        ,\n",
                            "       0.        , 0.        , 0.        , 0.        , 0.        ,\n",
                            "       0.        , 0.        , 0.        , 0.        , 0.        ,\n",
                            "       0.        , 0.        , 0.        , 0.        , 0.        ,\n",
                            "       0.        , 0.        , 0.        , 0.        , 0.        ,\n",
                            "       0.        , 0.        , 0.        , 0.        , 0.        ,\n",
                            "       0.        , 0.        , 0.        , 0.        , 0.        ,\n",
                            "       0.22241934, 0.        , 0.        , 0.        , 0.        ,\n",
                            "       0.        , 0.        , 0.        , 0.        , 0.        ,\n",
                            "       0.        , 0.        , 0.        , 0.        , 0.        ,\n",
                            "       0.        , 0.        , 0.        , 0.        , 0.        ,\n",
                            "       0.        , 0.        , 0.        , 0.        , 0.        ,\n",
                            "       0.        , 0.        , 0.        , 0.        , 0.        ,\n",
                            "       0.        , 0.        , 0.        , 0.        , 0.        ,\n",
                            "       0.        , 0.        , 0.        , 0.        , 0.        ,\n",
                            "       0.        , 0.        , 0.        , 0.        , 0.        ,\n",
                            "       0.        , 0.        , 0.        , 0.        , 0.        ,\n",
                            "       0.        , 0.        , 0.        , 0.        , 0.        ,\n",
                            "       0.        , 0.        , 0.        , 0.        , 0.        ,\n",
                            "       0.        , 0.        , 0.        , 0.        , 0.        ,\n",
                            "       0.        , 0.        , 0.        , 0.        , 0.        ,\n",
                            "       0.        , 0.        , 0.        , 0.        , 0.        ,\n",
                            "       0.        , 0.        , 0.        , 0.        , 0.        ,\n",
                            "       0.        , 0.        , 0.        , 0.        , 0.        ,\n",
                            "       0.        , 0.        , 0.        , 0.        , 0.        ,\n",
                            "       0.        , 0.        , 0.        , 0.        , 0.        ,\n",
                            "       0.        , 0.        , 0.        , 0.        , 0.        ,\n",
                            "       0.        , 0.        , 0.        , 0.        , 0.        ,\n",
                            "       0.        , 0.        , 0.        , 0.        , 0.        ,\n",
                            "       0.        , 0.        , 0.        , 0.        , 0.        ,\n",
                            "       0.        , 0.        , 0.        , 0.        , 0.        ,\n",
                            "       0.        , 0.        , 0.        , 0.        , 0.        ,\n",
                            "       0.        , 0.        , 0.        , 0.        , 0.        ,\n",
                            "       0.        , 0.        , 0.        , 0.        , 0.        ,\n",
                            "       0.        , 0.        , 0.        , 0.        , 0.        ,\n",
                            "       0.        , 0.        , 0.        , 0.        , 0.        ,\n",
                            "       0.        , 0.        , 0.        , 0.        , 0.        ,\n",
                            "       0.        , 0.        , 0.        , 0.        , 0.        ,\n",
                            "       0.        , 0.        , 0.        , 0.        , 0.        ,\n",
                            "       0.        , 0.        , 0.        , 0.        , 0.        ,\n",
                            "       0.        , 0.        , 0.        , 0.        , 0.        ,\n",
                            "       0.        , 0.        , 0.        , 0.        , 0.        ,\n",
                            "       0.        , 0.        , 0.        , 0.        , 0.        ,\n",
                            "       0.        , 0.        , 0.        , 0.        , 0.        ,\n",
                            "       0.        , 0.        , 0.        , 0.        , 0.        ,\n",
                            "       0.        , 0.        , 0.        , 0.        , 0.        ,\n",
                            "       0.        , 0.        , 0.        , 0.        , 0.        ,\n",
                            "       0.        , 0.        , 0.        , 0.        , 0.        ,\n",
                            "       0.        , 0.        , 0.        , 0.        , 0.        ,\n",
                            "       0.        , 0.        , 0.        , 0.        , 0.        ,\n",
                            "       0.        , 0.        , 0.        , 0.        , 0.        ,\n",
                            "       0.        , 0.        , 0.        , 0.        , 0.        ,\n",
                            "       0.        , 0.        , 0.        , 0.        , 0.        ,\n",
                            "       0.        , 0.        , 0.        , 0.        , 0.        ,\n",
                            "       0.        , 0.        , 0.        , 0.        , 0.        ,\n",
                            "       0.        , 0.        , 0.        , 0.        , 0.        ,\n",
                            "       0.        , 0.        , 0.        , 0.        , 0.        ,\n",
                            "       0.        , 0.        , 0.        , 0.        , 0.        ,\n",
                            "       0.        , 0.        , 0.        , 0.        , 0.        ,\n",
                            "       0.        , 0.        , 0.        , 0.        , 0.        ,\n",
                            "       0.        , 0.        , 0.        , 0.10673543, 0.        ,\n",
                            "       0.        , 0.        , 0.        , 0.        , 0.        ,\n",
                            "       0.        , 0.        , 0.        , 0.        , 0.        ,\n",
                            "       0.        , 0.        , 0.        , 0.        , 0.        ,\n",
                            "       0.        , 0.        , 0.        , 0.        , 0.        ,\n",
                            "       0.        , 0.        , 0.        , 0.        , 0.        ,\n",
                            "       0.        , 0.        , 0.        , 0.        , 0.        ,\n",
                            "       0.        , 0.        , 0.        , 0.        , 0.        ,\n",
                            "       0.        , 0.        , 0.        , 0.        , 0.        ,\n",
                            "       0.        , 0.        , 0.        , 0.        , 0.        ,\n",
                            "       0.        , 0.        , 0.        , 0.        , 0.        ,\n",
                            "       0.        , 0.        , 0.        , 0.        , 0.        ,\n",
                            "       0.        , 0.        , 0.        , 0.        , 0.        ,\n",
                            "       0.        , 0.        , 0.        , 0.        , 0.        ,\n",
                            "       0.        , 0.        , 0.        , 0.        , 0.        ,\n",
                            "       0.        , 0.        , 0.        , 0.        , 0.        ,\n",
                            "       0.        , 0.        , 0.        , 0.        , 0.        ,\n",
                            "       0.        , 0.        , 0.        , 0.        , 0.        ,\n",
                            "       0.        , 0.        , 0.        , 0.        , 0.        ,\n",
                            "       0.        , 0.        , 0.        , 0.        , 0.        ,\n",
                            "       0.        , 0.        , 0.        , 0.        , 0.        ,\n",
                            "       0.        , 0.        , 0.        , 0.        , 0.        ,\n",
                            "       0.        , 0.        , 0.        , 0.        , 0.        ,\n",
                            "       0.        , 0.        , 0.        , 0.        , 0.        ,\n",
                            "       0.        , 0.        , 0.        , 0.        , 0.        ,\n",
                            "       0.        , 0.        , 0.        , 0.        , 0.        ,\n",
                            "       0.        , 0.        , 0.        , 0.        , 0.        ,\n",
                            "       0.        , 0.        , 0.        , 0.        , 0.        ,\n",
                            "       0.        , 0.        , 0.        , 0.        , 0.        ,\n",
                            "       0.        , 0.        , 0.        , 0.        , 0.        ,\n",
                            "       0.        , 0.        , 0.        , 0.        , 0.        ,\n",
                            "       0.        , 0.        , 0.        , 0.        , 0.        ,\n",
                            "       0.        , 0.        , 0.        , 0.        , 0.        ,\n",
                            "       0.        , 0.        , 0.        , 0.        , 0.        ,\n",
                            "       0.        , 0.        , 0.        , 0.        , 0.        ,\n",
                            "       0.        , 0.        , 0.        , 0.        , 0.        ,\n",
                            "       0.        , 0.        , 0.        , 0.        , 0.        ,\n",
                            "       0.        , 0.        , 0.        , 0.        , 0.        ,\n",
                            "       0.        , 0.        , 0.        , 0.        , 0.        ,\n",
                            "       0.        , 0.        , 0.        , 0.        , 0.        ,\n",
                            "       0.        , 0.        , 0.        , 0.        , 0.        ,\n",
                            "       0.        , 0.        , 0.        , 0.        , 0.        ,\n",
                            "       0.        , 0.        , 0.        , 0.        , 0.        ,\n",
                            "       0.        , 0.        , 0.        , 0.        , 0.        ,\n",
                            "       0.        , 0.        , 0.        , 0.        , 0.        ,\n",
                            "       0.        , 0.        , 0.        , 0.        , 0.        ,\n",
                            "       0.        , 0.        , 0.        , 0.        , 0.        ,\n",
                            "       0.        , 0.        , 0.        , 0.        , 0.        ,\n",
                            "       0.        , 0.        , 0.        , 0.        , 0.        ,\n",
                            "       0.        , 0.        , 0.        , 0.        , 0.        ,\n",
                            "       0.        , 0.        , 0.        , 0.        , 0.        ,\n",
                            "       0.        , 0.        , 0.        , 0.        , 0.        ,\n",
                            "       0.        , 0.        , 0.        , 0.        , 0.        ,\n",
                            "       0.        , 0.        , 0.        , 0.        , 0.        ,\n",
                            "       0.        , 0.        , 0.        , 0.        , 0.        ,\n",
                            "       0.        , 0.        , 0.        , 0.        , 0.        ,\n",
                            "       0.        , 0.        , 0.        , 0.        , 0.        ,\n",
                            "       0.        , 0.        , 0.        , 0.        , 0.        ,\n",
                            "       0.        , 0.        , 0.        , 0.        , 0.        ,\n",
                            "       0.        , 0.        , 0.        , 0.        , 0.        ,\n",
                            "       0.        , 0.        , 0.        , 0.        , 0.        ,\n",
                            "       0.        , 0.        , 0.        , 0.        , 0.        ,\n",
                            "       0.        , 0.        , 0.        , 0.        , 0.        ,\n",
                            "       0.        , 0.        , 0.        , 0.        , 0.        ,\n",
                            "       0.        , 0.        , 0.        , 0.        , 0.        ,\n",
                            "       0.        , 0.        , 0.        , 0.        , 0.        ,\n",
                            "       0.        , 0.        , 0.        , 0.        , 0.        ,\n",
                            "       0.        , 0.        , 0.        , 0.        , 0.        ,\n",
                            "       0.        , 0.        , 0.        , 0.        , 0.        ,\n",
                            "       0.        , 0.        , 0.        , 0.        , 0.        ,\n",
                            "       0.        , 0.        , 0.        , 0.        , 0.        ,\n",
                            "       0.        , 0.        , 0.        , 0.        , 0.        ,\n",
                            "       0.        , 0.        , 0.        , 0.        , 0.        ,\n",
                            "       0.        , 0.        , 0.        , 0.        , 0.        ,\n",
                            "       0.        , 0.        , 0.        , 0.        , 0.        ,\n",
                            "       0.        , 0.        , 0.        , 0.        , 0.        ,\n",
                            "       0.        , 0.        , 0.        , 0.        , 0.        ,\n",
                            "       0.        , 0.        , 0.        , 0.        , 0.        ,\n",
                            "       0.        , 0.        , 0.        , 0.        , 0.        ,\n",
                            "       0.        , 0.        , 0.        , 0.        , 0.        ,\n",
                            "       0.        , 0.        , 0.        , 0.        , 0.        ,\n",
                            "       0.        , 0.        , 0.        , 0.        , 0.        ,\n",
                            "       0.        , 0.        , 0.        , 0.        , 0.        ,\n",
                            "       0.        , 0.        , 0.        , 0.        , 0.        ,\n",
                            "       0.        , 0.        , 0.        , 0.        , 0.        ,\n",
                            "       0.        , 0.        , 0.        , 0.        , 0.        ,\n",
                            "       0.        , 0.        , 0.        , 0.        , 0.        ,\n",
                            "       0.        , 0.        , 0.        , 0.        , 0.        ,\n",
                            "       0.        , 0.        , 0.        , 0.        , 0.        ,\n",
                            "       0.        , 0.        , 0.        , 0.        , 0.        ,\n",
                            "       0.        , 0.        , 0.        , 0.        , 0.        ,\n",
                            "       0.        , 0.        , 0.        , 0.        , 0.        ,\n",
                            "       0.        , 0.        , 0.        , 0.        , 0.        ,\n",
                            "       0.        , 0.        , 0.        , 0.        , 0.        ,\n",
                            "       0.        , 0.        , 0.        , 0.        , 0.        ,\n",
                            "       0.        , 0.        , 0.        , 0.        , 0.        ,\n",
                            "       0.        , 0.        , 0.        , 0.        , 0.        ,\n",
                            "       0.        , 0.        , 0.        , 0.        , 0.        ,\n",
                            "       0.        , 0.        , 0.        , 0.        , 0.        ,\n",
                            "       0.        , 0.        , 0.        , 0.        , 0.        ,\n",
                            "       0.        , 0.        , 0.        , 0.        , 0.        ,\n",
                            "       0.        , 0.        , 0.        , 0.        , 0.        ,\n",
                            "       0.        , 0.        , 0.        , 0.        , 0.        ,\n",
                            "       0.        , 0.        , 0.        , 0.        , 0.        ,\n",
                            "       0.        , 0.        , 0.        , 0.        , 0.        ,\n",
                            "       0.        , 0.        , 0.        , 0.        , 0.        ,\n",
                            "       0.        , 0.        , 0.        , 0.        , 0.        ,\n",
                            "       0.        , 0.        , 0.        , 0.        , 0.        ,\n",
                            "       0.        , 0.        , 0.        , 0.        , 0.        ,\n",
                            "       0.        , 0.        , 0.        , 0.        , 0.        ,\n",
                            "       0.        , 0.        , 0.        , 0.        , 0.        ,\n",
                            "       0.        , 0.        , 0.        , 0.        , 0.        ,\n",
                            "       0.        , 0.        , 0.        , 0.        , 0.        ,\n",
                            "       0.        , 0.        , 0.        , 0.        , 0.        ,\n",
                            "       0.        , 0.        , 0.        , 0.        , 0.        ,\n",
                            "       0.        , 0.        , 0.        , 0.        , 0.        ,\n",
                            "       0.        , 0.        , 0.        , 0.        , 0.        ,\n",
                            "       0.        , 0.        , 0.        , 0.        , 0.        ,\n",
                            "       0.        , 0.        , 0.        , 0.        , 0.        ,\n",
                            "       0.        , 0.        , 0.        , 0.        , 0.        ,\n",
                            "       0.        , 0.        , 0.        , 0.        , 0.        ,\n",
                            "       0.        , 0.        , 0.        , 0.        , 0.        ,\n",
                            "       0.        , 0.        , 0.        , 0.        , 0.        ,\n",
                            "       0.        , 0.        , 0.        , 0.        , 0.        ,\n",
                            "       0.        , 0.        , 0.        , 0.        , 0.        ,\n",
                            "       0.        , 0.        , 0.        , 0.        , 0.        ,\n",
                            "       0.        , 0.        , 0.        , 0.        , 0.        ,\n",
                            "       0.        , 0.        , 0.        , 0.        , 0.        ,\n",
                            "       0.        , 0.        , 0.        , 0.        , 0.        ,\n",
                            "       0.        , 0.        , 0.        , 0.        , 0.        ,\n",
                            "       0.        , 0.        , 0.        , 0.        , 0.        ,\n",
                            "       0.        , 0.        , 0.        , 0.        , 0.        ,\n",
                            "       0.        , 0.        , 0.        , 0.        , 0.        ,\n",
                            "       0.        , 0.        , 0.        , 0.        , 0.        ,\n",
                            "       0.        , 0.        , 0.        , 0.        , 0.        ,\n",
                            "       0.        , 0.        , 0.        , 0.        , 0.        ,\n",
                            "       0.        , 0.        , 0.        , 0.        , 0.        ,\n",
                            "       0.        , 0.        , 0.        , 0.        , 0.        ,\n",
                            "       0.        , 0.        , 0.        , 0.        , 0.        ,\n",
                            "       0.        , 0.        , 0.        , 0.        , 0.        ,\n",
                            "       0.        , 0.        , 0.        , 0.        , 0.        ,\n",
                            "       0.        , 0.        , 0.        , 0.        , 0.        ,\n",
                            "       0.        , 0.        , 0.        , 0.        , 0.        ,\n",
                            "       0.        , 0.        , 0.        , 0.        , 0.        ,\n",
                            "       0.        , 0.        , 0.        , 0.        , 0.        ,\n",
                            "       0.        , 0.        , 0.        , 0.        , 0.        ,\n",
                            "       0.        , 0.        , 0.        , 0.        , 0.        ,\n",
                            "       0.        , 0.        , 0.        , 0.        , 0.        ,\n",
                            "       0.        , 0.        , 0.        , 0.        , 0.        ,\n",
                            "       0.        , 0.        , 0.        , 0.        , 0.        ,\n",
                            "       0.        , 0.        , 0.        , 0.        , 0.        ,\n",
                            "       0.        , 0.        , 0.        , 0.        , 0.        ,\n",
                            "       0.        , 0.        , 0.        , 0.        , 0.        ,\n",
                            "       0.        , 0.        , 0.        , 0.        , 0.        ,\n",
                            "       0.        , 0.        , 0.        , 0.        , 0.        ,\n",
                            "       0.        , 0.        , 0.        , 0.        , 0.        ,\n",
                            "       0.        , 0.        , 0.        , 0.        , 0.        ,\n",
                            "       0.        , 0.        , 0.        , 0.        , 0.        ,\n",
                            "       0.        , 0.        , 0.        , 0.        , 0.        ,\n",
                            "       0.        , 0.        , 0.        , 0.        , 0.        ,\n",
                            "       0.        , 0.        , 0.        , 0.        , 0.        ,\n",
                            "       0.        , 0.        , 0.        , 0.        , 0.        ,\n",
                            "       0.        , 0.        , 0.        , 0.        , 0.        ,\n",
                            "       0.        , 0.        , 0.        , 0.        , 0.        ,\n",
                            "       0.        , 0.        , 0.        , 0.        , 0.        ,\n",
                            "       0.        , 0.        , 0.        , 0.        , 0.        ,\n",
                            "       0.        , 0.        , 0.        , 0.        , 0.        ,\n",
                            "       0.        , 0.        , 0.        , 0.        , 0.        ,\n",
                            "       0.        , 0.        , 0.        , 0.        , 0.        ,\n",
                            "       0.        , 0.        , 0.        , 0.        , 0.        ,\n",
                            "       0.        , 0.        , 0.        , 0.        , 0.        ,\n",
                            "       0.        , 0.        , 0.        , 0.        , 0.        ,\n",
                            "       0.        , 0.        , 0.        , 0.        , 0.        ,\n",
                            "       0.        , 0.        , 0.        , 0.        , 0.        ,\n",
                            "       0.        , 0.        , 0.        , 0.        , 0.        ,\n",
                            "       0.        , 0.        , 0.        , 0.        , 0.        ,\n",
                            "       0.        , 0.        , 0.        , 0.        , 0.        ,\n",
                            "       0.        , 0.        , 0.        , 0.        , 0.        ,\n",
                            "       0.        , 0.        , 0.        , 0.        , 0.        ,\n",
                            "       0.        , 0.        , 0.        , 0.        , 0.        ,\n",
                            "       0.        , 0.        , 0.        , 0.        , 0.        ,\n",
                            "       0.        , 0.        , 0.        , 0.        , 0.        ,\n",
                            "       0.        , 0.        , 0.        , 0.        , 0.        ,\n",
                            "       0.        , 0.        , 0.        , 0.        , 0.        ,\n",
                            "       0.        , 0.        , 0.        , 0.        , 0.        ,\n",
                            "       0.        , 0.        , 0.        , 0.        , 0.        ,\n",
                            "       0.        , 0.        , 0.        , 0.        , 0.        ,\n",
                            "       0.        , 0.        , 0.        , 0.        , 0.        ,\n",
                            "       0.        , 0.        , 0.        , 0.        , 0.        ,\n",
                            "       0.        , 0.        , 0.        , 0.        , 0.        ,\n",
                            "       0.        , 0.        , 0.        , 0.        , 0.        ,\n",
                            "       0.        , 0.        , 0.        , 0.        , 0.        ,\n",
                            "       0.        , 0.        , 0.        , 0.        , 0.        ,\n",
                            "       0.        , 0.        , 0.        , 0.        , 0.        ,\n",
                            "       0.        , 0.        , 0.        , 0.        , 0.        ,\n",
                            "       0.        , 0.        , 0.        , 0.        , 0.        ,\n",
                            "       0.        , 0.        , 0.        , 0.        , 0.        ,\n",
                            "       0.        , 0.        , 0.        , 0.        , 0.        ,\n",
                            "       0.        , 0.        , 0.        , 0.        , 0.        ,\n",
                            "       0.        , 0.        , 0.        , 0.        , 0.        ,\n",
                            "       0.        , 0.        , 0.        , 0.        , 0.        ,\n",
                            "       0.        , 0.        , 0.        , 0.        , 0.        ,\n",
                            "       0.        , 0.        , 0.        , 0.        , 0.        ,\n",
                            "       0.        , 0.        , 0.        , 0.        , 0.        ,\n",
                            "       0.        , 0.        , 0.        , 0.        , 0.        ,\n",
                            "       0.        , 0.        , 0.        , 0.        , 0.        ,\n",
                            "       0.        , 0.        , 0.        , 0.        , 0.        ,\n",
                            "       0.        , 0.        , 0.        , 0.        , 0.        ,\n",
                            "       0.        , 0.        , 0.        , 0.        , 0.        ,\n",
                            "       0.        , 0.        , 0.        , 0.        , 0.        ,\n",
                            "       0.        , 0.        , 0.        , 0.        , 0.        ,\n",
                            "       0.        , 0.        , 0.        , 0.        , 0.        ,\n",
                            "       0.        , 0.        , 0.        , 0.        , 0.        ,\n",
                            "       0.        , 0.        , 0.        , 0.        , 0.        ,\n",
                            "       0.        , 0.        , 0.        , 0.        , 0.        ,\n",
                            "       0.        , 0.        , 0.        , 0.        , 0.        ,\n",
                            "       0.        , 0.        , 0.        , 0.        , 0.        ,\n",
                            "       0.        , 0.        , 0.        , 0.        , 0.        ,\n",
                            "       0.        , 0.        , 0.        , 0.        , 0.        ,\n",
                            "       0.        , 0.        , 0.        , 0.        , 0.        ,\n",
                            "       0.        , 0.        , 0.        , 0.        , 0.        ,\n",
                            "       0.        , 0.        , 0.        , 0.        , 0.        ,\n",
                            "       0.        , 0.        , 0.        , 0.        , 0.        ,\n",
                            "       0.        , 0.        , 0.        , 0.        , 0.        ,\n",
                            "       0.        , 0.        , 0.        , 0.        , 0.        ,\n",
                            "       0.        , 0.        , 0.        , 0.        , 0.        ,\n",
                            "       0.        , 0.        , 0.        , 0.        , 0.        ,\n",
                            "       0.        , 0.        , 0.        , 0.        , 0.        ,\n",
                            "       0.        , 0.        , 0.        , 0.        , 0.        ,\n",
                            "       0.        , 0.        , 0.        , 0.        , 0.        ,\n",
                            "       0.        , 0.        , 0.        , 0.        , 0.        ,\n",
                            "       0.        , 0.        , 0.        , 0.        , 0.        ,\n",
                            "       0.        , 0.        , 0.        , 0.        , 0.        ,\n",
                            "       0.        , 0.        , 0.        , 0.        , 0.        ,\n",
                            "       0.        , 0.        , 0.        , 0.        , 0.        ,\n",
                            "       0.        , 0.        , 0.        , 0.        , 0.        ,\n",
                            "       0.        , 0.        , 0.        , 0.        , 0.        ,\n",
                            "       0.        , 0.        , 0.        , 0.        , 0.        ,\n",
                            "       0.        , 0.        , 0.        , 0.        , 0.        ,\n",
                            "       0.        , 0.        , 0.        , 0.        , 0.        ,\n",
                            "       0.        , 0.        , 0.        , 0.        , 0.        ,\n",
                            "       0.        , 0.        , 0.        , 0.        , 0.        ,\n",
                            "       0.        , 0.        , 0.        , 0.        , 0.        ,\n",
                            "       0.        , 0.        , 0.        , 0.        , 0.        ,\n",
                            "       0.        , 0.        , 0.        , 0.        , 0.        ,\n",
                            "       0.        , 0.        , 0.        , 0.        , 0.        ,\n",
                            "       0.        , 0.        , 0.        , 0.        , 0.        ,\n",
                            "       0.        , 0.        , 0.        , 0.        , 0.        ,\n",
                            "       0.        , 0.        , 0.        , 0.        , 0.        ,\n",
                            "       0.        , 0.        , 0.        , 0.        , 0.        ,\n",
                            "       0.        , 0.        , 0.        , 0.        , 0.        ,\n",
                            "       0.        , 0.        , 0.        , 0.        , 0.        ,\n",
                            "       0.        , 0.        , 0.        , 0.        , 0.        ,\n",
                            "       0.        , 0.        , 0.        , 0.        , 0.        ,\n",
                            "       0.        , 0.        , 0.        , 0.        , 0.        ,\n",
                            "       0.        , 0.        , 0.        , 0.        , 0.        ,\n",
                            "       0.        , 0.        , 0.        , 0.        , 0.        ,\n",
                            "       0.        , 0.        , 0.        , 0.        , 0.        ,\n",
                            "       0.        , 0.        , 0.        , 0.        , 0.        ,\n",
                            "       0.        , 0.        , 0.        , 0.        , 0.        ,\n",
                            "       0.        , 0.        , 0.        , 0.        , 0.        ,\n",
                            "       0.        , 0.        , 0.        , 0.        , 0.        ,\n",
                            "       0.        , 0.        , 0.        , 0.        , 0.        ,\n",
                            "       0.        , 0.        , 0.        , 0.        , 0.        ,\n",
                            "       0.        , 0.        , 0.        , 0.        , 0.        ,\n",
                            "       0.        , 0.        , 0.        , 0.        , 0.        ,\n",
                            "       0.        , 0.        , 0.        , 0.        , 0.        ,\n",
                            "       0.        , 0.        , 0.        , 0.        , 0.        ,\n",
                            "       0.        , 0.        , 0.        , 0.        , 0.        ,\n",
                            "       0.        , 0.        , 0.        , 0.        , 0.        ,\n",
                            "       0.        , 0.        , 0.        , 0.        , 0.        ,\n",
                            "       0.        , 0.        , 0.        , 0.        , 0.        ,\n",
                            "       0.        , 0.        , 0.        , 0.        , 0.        ,\n",
                            "       0.        , 0.        , 0.        , 0.        , 0.        ,\n",
                            "       0.        , 0.        , 0.        , 0.        , 0.        ,\n",
                            "       0.        , 0.        , 0.        , 0.        , 0.        ,\n",
                            "       0.        , 0.        , 0.21173517, 0.        , 0.        ,\n",
                            "       0.        , 0.        , 0.        , 0.        , 0.        ,\n",
                            "       0.        , 0.        , 0.        , 0.        , 0.        ,\n",
                            "       0.        , 0.        , 0.        , 0.        , 0.        ,\n",
                            "       0.        , 0.        , 0.        , 0.        , 0.        ,\n",
                            "       0.        , 0.        , 0.        , 0.        , 0.        ,\n",
                            "       0.        , 0.        , 0.        , 0.        , 0.        ,\n",
                            "       0.        , 0.        , 0.        , 0.        , 0.        ,\n",
                            "       0.        , 0.        , 0.        , 0.        , 0.        ,\n",
                            "       0.        , 0.        , 0.        , 0.        , 0.        ,\n",
                            "       0.        , 0.        , 0.        , 0.        , 0.        ,\n",
                            "       0.        , 0.        , 0.        , 0.        , 0.        ,\n",
                            "       0.        , 0.        , 0.        , 0.        , 0.        ,\n",
                            "       0.        , 0.        , 0.        , 0.        , 0.        ,\n",
                            "       0.        , 0.        , 0.        , 0.        , 0.        ,\n",
                            "       0.        , 0.        , 0.        , 0.        , 0.        ,\n",
                            "       0.        , 0.        , 0.        , 0.        , 0.        ,\n",
                            "       0.        , 0.        , 0.        , 0.        , 0.        ,\n",
                            "       0.        , 0.        , 0.        , 0.        , 0.        ,\n",
                            "       0.        , 0.        , 0.        , 0.        , 0.        ,\n",
                            "       0.        , 0.        , 0.        , 0.        , 0.        ,\n",
                            "       0.        , 0.        , 0.        , 0.        , 0.        ,\n",
                            "       0.        , 0.        , 0.        , 0.        , 0.        ,\n",
                            "       0.        , 0.        , 0.        , 0.        , 0.        ,\n",
                            "       0.        , 0.        , 0.        , 0.        , 0.        ,\n",
                            "       0.        , 0.        , 0.        , 0.        , 0.        ,\n",
                            "       0.        , 0.        , 0.        , 0.        , 0.        ,\n",
                            "       0.        , 0.        , 0.        , 0.        , 0.        ,\n",
                            "       0.        , 0.        , 0.        , 0.        , 0.        ,\n",
                            "       0.        , 0.        , 0.        , 0.        , 0.        ,\n",
                            "       0.        , 0.        , 0.        , 0.        , 0.        ,\n",
                            "       0.        , 0.        , 0.        , 0.        , 0.        ,\n",
                            "       0.        , 0.        , 0.        , 0.        , 0.        ,\n",
                            "       0.        , 0.        , 0.        , 0.        , 0.        ,\n",
                            "       0.        , 0.        , 0.        , 0.        , 0.        ,\n",
                            "       0.        , 0.        , 0.        , 0.        , 0.        ,\n",
                            "       0.        , 0.        , 0.        , 0.        , 0.        ,\n",
                            "       0.        , 0.        , 0.        , 0.        , 0.        ,\n",
                            "       0.        , 0.        , 0.        , 0.        , 0.        ,\n",
                            "       0.        , 0.        , 0.        , 0.        , 0.        ,\n",
                            "       0.        , 0.        , 0.        , 0.        , 0.        ,\n",
                            "       0.        , 0.        , 0.        , 0.        , 0.        ,\n",
                            "       0.        , 0.        , 0.        , 0.        , 0.        ,\n",
                            "       0.        , 0.        , 0.        , 0.        , 0.        ,\n",
                            "       0.        , 0.        , 0.        , 0.        , 0.        ,\n",
                            "       0.        , 0.        , 0.        , 0.        , 0.        ,\n",
                            "       0.        , 0.        , 0.        , 0.        , 0.        ,\n",
                            "       0.        , 0.        , 0.        , 0.        , 0.        ,\n",
                            "       0.        , 0.        , 0.        , 0.        , 0.        ,\n",
                            "       0.        , 0.        , 0.        , 0.        , 0.        ,\n",
                            "       0.        , 0.        , 0.        , 0.        , 0.        ,\n",
                            "       0.        , 0.        , 0.        , 0.        , 0.        ,\n",
                            "       0.        , 0.        , 0.        , 0.        , 0.        ,\n",
                            "       0.        , 0.        , 0.        , 0.        , 0.        ,\n",
                            "       0.        , 0.        , 0.        , 0.        , 0.23691875,\n",
                            "       0.        , 0.        , 0.        , 0.        , 0.        ,\n",
                            "       0.        , 0.        , 0.        , 0.        , 0.        ,\n",
                            "       0.        , 0.        , 0.        , 0.        , 0.        ,\n",
                            "       0.        , 0.        , 0.        , 0.        , 0.        ,\n",
                            "       0.        , 0.        , 0.        , 0.        , 0.        ,\n",
                            "       0.        , 0.        , 0.        , 0.        , 0.        ,\n",
                            "       0.        , 0.        , 0.        , 0.        , 0.        ,\n",
                            "       0.        , 0.        , 0.        , 0.        , 0.        ,\n",
                            "       0.        , 0.        , 0.        , 0.        , 0.        ,\n",
                            "       0.        , 0.        , 0.        , 0.        , 0.        ,\n",
                            "       0.        , 0.        , 0.        , 0.        , 0.        ,\n",
                            "       0.        , 0.        , 0.        , 0.        , 0.        ,\n",
                            "       0.        , 0.        , 0.        , 0.        , 0.        ,\n",
                            "       0.        , 0.        , 0.        , 0.        , 0.        ,\n",
                            "       0.        , 0.        , 0.18454248, 0.        , 0.        ,\n",
                            "       0.31060044, 0.        , 0.        , 0.        , 0.        ,\n",
                            "       0.        , 0.        , 0.        , 0.        , 0.        ,\n",
                            "       0.        , 0.29701858, 0.        , 0.        , 0.        ,\n",
                            "       0.37343268, 0.        , 0.        , 0.        , 0.        ,\n",
                            "       0.        , 0.        , 0.        , 0.        , 0.        ,\n",
                            "       0.        , 0.        , 0.        , 0.        , 0.        ,\n",
                            "       0.        , 0.        , 0.        , 0.        , 0.        ,\n",
                            "       0.        , 0.        , 0.        , 0.        , 0.        ,\n",
                            "       0.        , 0.        , 0.        , 0.        , 0.        ,\n",
                            "       0.        , 0.        , 0.        , 0.        , 0.        ,\n",
                            "       0.        , 0.        , 0.        , 0.        , 0.        ,\n",
                            "       0.        , 0.        , 0.        , 0.        , 0.        ,\n",
                            "       0.        , 0.        , 0.        , 0.        , 0.        ,\n",
                            "       0.        , 0.        , 0.        , 0.        , 0.        ,\n",
                            "       0.        , 0.        , 0.        , 0.        , 0.        ,\n",
                            "       0.        , 0.        , 0.        , 0.        , 0.        ,\n",
                            "       0.        , 0.        , 0.        , 0.        , 0.        ,\n",
                            "       0.        , 0.        , 0.        ])"
                        ]
                    },
                    "execution_count": 32,
                    "metadata": {},
                    "output_type": "execute_result"
                }
            ],
            "source": [
                "\n",
                "#np.set_printoptions(threshold=sys.maxsize)\n",
                "#text_vec_tfidf.toarray()[0]\n"
            ]
        },
        {
            "cell_type": "code",
            "execution_count": 38,
            "metadata": {},
            "outputs": [],
            "source": [
                "text_clf = Pipeline([('vect', CountVectorizer()), ('tfidf', TfidfTransformer())])\n",
                "text_norm = text_clf.fit_transform(X_train)"
            ]
        },
        {
            "cell_type": "code",
            "execution_count": 41,
            "metadata": {},
            "outputs": [],
            "source": [
                "# text_norm.toarray()[0]"
            ]
        },
        {
            "cell_type": "code",
            "execution_count": 45,
            "metadata": {},
            "outputs": [
                {
                    "data": {
                        "text/html": [
                            "<style>#sk-container-id-3 {color: black;background-color: white;}#sk-container-id-3 pre{padding: 0;}#sk-container-id-3 div.sk-toggleable {background-color: white;}#sk-container-id-3 label.sk-toggleable__label {cursor: pointer;display: block;width: 100%;margin-bottom: 0;padding: 0.3em;box-sizing: border-box;text-align: center;}#sk-container-id-3 label.sk-toggleable__label-arrow:before {content: \"▸\";float: left;margin-right: 0.25em;color: #696969;}#sk-container-id-3 label.sk-toggleable__label-arrow:hover:before {color: black;}#sk-container-id-3 div.sk-estimator:hover label.sk-toggleable__label-arrow:before {color: black;}#sk-container-id-3 div.sk-toggleable__content {max-height: 0;max-width: 0;overflow: hidden;text-align: left;background-color: #f0f8ff;}#sk-container-id-3 div.sk-toggleable__content pre {margin: 0.2em;color: black;border-radius: 0.25em;background-color: #f0f8ff;}#sk-container-id-3 input.sk-toggleable__control:checked~div.sk-toggleable__content {max-height: 200px;max-width: 100%;overflow: auto;}#sk-container-id-3 input.sk-toggleable__control:checked~label.sk-toggleable__label-arrow:before {content: \"▾\";}#sk-container-id-3 div.sk-estimator input.sk-toggleable__control:checked~label.sk-toggleable__label {background-color: #d4ebff;}#sk-container-id-3 div.sk-label input.sk-toggleable__control:checked~label.sk-toggleable__label {background-color: #d4ebff;}#sk-container-id-3 input.sk-hidden--visually {border: 0;clip: rect(1px 1px 1px 1px);clip: rect(1px, 1px, 1px, 1px);height: 1px;margin: -1px;overflow: hidden;padding: 0;position: absolute;width: 1px;}#sk-container-id-3 div.sk-estimator {font-family: monospace;background-color: #f0f8ff;border: 1px dotted black;border-radius: 0.25em;box-sizing: border-box;margin-bottom: 0.5em;}#sk-container-id-3 div.sk-estimator:hover {background-color: #d4ebff;}#sk-container-id-3 div.sk-parallel-item::after {content: \"\";width: 100%;border-bottom: 1px solid gray;flex-grow: 1;}#sk-container-id-3 div.sk-label:hover label.sk-toggleable__label {background-color: #d4ebff;}#sk-container-id-3 div.sk-serial::before {content: \"\";position: absolute;border-left: 1px solid gray;box-sizing: border-box;top: 0;bottom: 0;left: 50%;z-index: 0;}#sk-container-id-3 div.sk-serial {display: flex;flex-direction: column;align-items: center;background-color: white;padding-right: 0.2em;padding-left: 0.2em;position: relative;}#sk-container-id-3 div.sk-item {position: relative;z-index: 1;}#sk-container-id-3 div.sk-parallel {display: flex;align-items: stretch;justify-content: center;background-color: white;position: relative;}#sk-container-id-3 div.sk-item::before, #sk-container-id-3 div.sk-parallel-item::before {content: \"\";position: absolute;border-left: 1px solid gray;box-sizing: border-box;top: 0;bottom: 0;left: 50%;z-index: -1;}#sk-container-id-3 div.sk-parallel-item {display: flex;flex-direction: column;z-index: 1;position: relative;background-color: white;}#sk-container-id-3 div.sk-parallel-item:first-child::after {align-self: flex-end;width: 50%;}#sk-container-id-3 div.sk-parallel-item:last-child::after {align-self: flex-start;width: 50%;}#sk-container-id-3 div.sk-parallel-item:only-child::after {width: 0;}#sk-container-id-3 div.sk-dashed-wrapped {border: 1px dashed gray;margin: 0 0.4em 0.5em 0.4em;box-sizing: border-box;padding-bottom: 0.4em;background-color: white;}#sk-container-id-3 div.sk-label label {font-family: monospace;font-weight: bold;display: inline-block;line-height: 1.2em;}#sk-container-id-3 div.sk-label-container {text-align: center;}#sk-container-id-3 div.sk-container {/* jupyter's `normalize.less` sets `[hidden] { display: none; }` but bootstrap.min.css set `[hidden] { display: none !important; }` so we also need the `!important` here to be able to override the default hidden behavior on the sphinx rendered scikit-learn.org. See: https://github.com/scikit-learn/scikit-learn/issues/21755 */display: inline-block !important;position: relative;}#sk-container-id-3 div.sk-text-repr-fallback {display: none;}</style><div id=\"sk-container-id-3\" class=\"sk-top-container\"><div class=\"sk-text-repr-fallback\"><pre>MultinomialNB()</pre><b>In a Jupyter environment, please rerun this cell to show the HTML representation or trust the notebook. <br />On GitHub, the HTML representation is unable to render, please try loading this page with nbviewer.org.</b></div><div class=\"sk-container\" hidden><div class=\"sk-item\"><div class=\"sk-estimator sk-toggleable\"><input class=\"sk-toggleable__control sk-hidden--visually\" id=\"sk-estimator-id-8\" type=\"checkbox\" checked><label for=\"sk-estimator-id-8\" class=\"sk-toggleable__label sk-toggleable__label-arrow\">MultinomialNB</label><div class=\"sk-toggleable__content\"><pre>MultinomialNB()</pre></div></div></div></div></div>"
                        ],
                        "text/plain": [
                            "MultinomialNB()"
                        ]
                    },
                    "execution_count": 45,
                    "metadata": {},
                    "output_type": "execute_result"
                }
            ],
            "source": [
                "clf_1 = MultinomialNB()\n",
                "\n",
                "clf_1.fit(text_vec, y_train)"
            ]
        },
        {
            "cell_type": "code",
            "execution_count": 46,
            "metadata": {},
            "outputs": [
                {
                    "data": {
                        "text/html": [
                            "<style>#sk-container-id-4 {color: black;background-color: white;}#sk-container-id-4 pre{padding: 0;}#sk-container-id-4 div.sk-toggleable {background-color: white;}#sk-container-id-4 label.sk-toggleable__label {cursor: pointer;display: block;width: 100%;margin-bottom: 0;padding: 0.3em;box-sizing: border-box;text-align: center;}#sk-container-id-4 label.sk-toggleable__label-arrow:before {content: \"▸\";float: left;margin-right: 0.25em;color: #696969;}#sk-container-id-4 label.sk-toggleable__label-arrow:hover:before {color: black;}#sk-container-id-4 div.sk-estimator:hover label.sk-toggleable__label-arrow:before {color: black;}#sk-container-id-4 div.sk-toggleable__content {max-height: 0;max-width: 0;overflow: hidden;text-align: left;background-color: #f0f8ff;}#sk-container-id-4 div.sk-toggleable__content pre {margin: 0.2em;color: black;border-radius: 0.25em;background-color: #f0f8ff;}#sk-container-id-4 input.sk-toggleable__control:checked~div.sk-toggleable__content {max-height: 200px;max-width: 100%;overflow: auto;}#sk-container-id-4 input.sk-toggleable__control:checked~label.sk-toggleable__label-arrow:before {content: \"▾\";}#sk-container-id-4 div.sk-estimator input.sk-toggleable__control:checked~label.sk-toggleable__label {background-color: #d4ebff;}#sk-container-id-4 div.sk-label input.sk-toggleable__control:checked~label.sk-toggleable__label {background-color: #d4ebff;}#sk-container-id-4 input.sk-hidden--visually {border: 0;clip: rect(1px 1px 1px 1px);clip: rect(1px, 1px, 1px, 1px);height: 1px;margin: -1px;overflow: hidden;padding: 0;position: absolute;width: 1px;}#sk-container-id-4 div.sk-estimator {font-family: monospace;background-color: #f0f8ff;border: 1px dotted black;border-radius: 0.25em;box-sizing: border-box;margin-bottom: 0.5em;}#sk-container-id-4 div.sk-estimator:hover {background-color: #d4ebff;}#sk-container-id-4 div.sk-parallel-item::after {content: \"\";width: 100%;border-bottom: 1px solid gray;flex-grow: 1;}#sk-container-id-4 div.sk-label:hover label.sk-toggleable__label {background-color: #d4ebff;}#sk-container-id-4 div.sk-serial::before {content: \"\";position: absolute;border-left: 1px solid gray;box-sizing: border-box;top: 0;bottom: 0;left: 50%;z-index: 0;}#sk-container-id-4 div.sk-serial {display: flex;flex-direction: column;align-items: center;background-color: white;padding-right: 0.2em;padding-left: 0.2em;position: relative;}#sk-container-id-4 div.sk-item {position: relative;z-index: 1;}#sk-container-id-4 div.sk-parallel {display: flex;align-items: stretch;justify-content: center;background-color: white;position: relative;}#sk-container-id-4 div.sk-item::before, #sk-container-id-4 div.sk-parallel-item::before {content: \"\";position: absolute;border-left: 1px solid gray;box-sizing: border-box;top: 0;bottom: 0;left: 50%;z-index: -1;}#sk-container-id-4 div.sk-parallel-item {display: flex;flex-direction: column;z-index: 1;position: relative;background-color: white;}#sk-container-id-4 div.sk-parallel-item:first-child::after {align-self: flex-end;width: 50%;}#sk-container-id-4 div.sk-parallel-item:last-child::after {align-self: flex-start;width: 50%;}#sk-container-id-4 div.sk-parallel-item:only-child::after {width: 0;}#sk-container-id-4 div.sk-dashed-wrapped {border: 1px dashed gray;margin: 0 0.4em 0.5em 0.4em;box-sizing: border-box;padding-bottom: 0.4em;background-color: white;}#sk-container-id-4 div.sk-label label {font-family: monospace;font-weight: bold;display: inline-block;line-height: 1.2em;}#sk-container-id-4 div.sk-label-container {text-align: center;}#sk-container-id-4 div.sk-container {/* jupyter's `normalize.less` sets `[hidden] { display: none; }` but bootstrap.min.css set `[hidden] { display: none !important; }` so we also need the `!important` here to be able to override the default hidden behavior on the sphinx rendered scikit-learn.org. See: https://github.com/scikit-learn/scikit-learn/issues/21755 */display: inline-block !important;position: relative;}#sk-container-id-4 div.sk-text-repr-fallback {display: none;}</style><div id=\"sk-container-id-4\" class=\"sk-top-container\"><div class=\"sk-text-repr-fallback\"><pre>MultinomialNB()</pre><b>In a Jupyter environment, please rerun this cell to show the HTML representation or trust the notebook. <br />On GitHub, the HTML representation is unable to render, please try loading this page with nbviewer.org.</b></div><div class=\"sk-container\" hidden><div class=\"sk-item\"><div class=\"sk-estimator sk-toggleable\"><input class=\"sk-toggleable__control sk-hidden--visually\" id=\"sk-estimator-id-9\" type=\"checkbox\" checked><label for=\"sk-estimator-id-9\" class=\"sk-toggleable__label sk-toggleable__label-arrow\">MultinomialNB</label><div class=\"sk-toggleable__content\"><pre>MultinomialNB()</pre></div></div></div></div></div>"
                        ],
                        "text/plain": [
                            "MultinomialNB()"
                        ]
                    },
                    "execution_count": 46,
                    "metadata": {},
                    "output_type": "execute_result"
                }
            ],
            "source": [
                "clf_2 = MultinomialNB()\n",
                "\n",
                "clf_2.fit(text_vec_tfidf, y_train)"
            ]
        },
        {
            "cell_type": "code",
            "execution_count": 47,
            "metadata": {},
            "outputs": [
                {
                    "data": {
                        "text/html": [
                            "<style>#sk-container-id-5 {color: black;background-color: white;}#sk-container-id-5 pre{padding: 0;}#sk-container-id-5 div.sk-toggleable {background-color: white;}#sk-container-id-5 label.sk-toggleable__label {cursor: pointer;display: block;width: 100%;margin-bottom: 0;padding: 0.3em;box-sizing: border-box;text-align: center;}#sk-container-id-5 label.sk-toggleable__label-arrow:before {content: \"▸\";float: left;margin-right: 0.25em;color: #696969;}#sk-container-id-5 label.sk-toggleable__label-arrow:hover:before {color: black;}#sk-container-id-5 div.sk-estimator:hover label.sk-toggleable__label-arrow:before {color: black;}#sk-container-id-5 div.sk-toggleable__content {max-height: 0;max-width: 0;overflow: hidden;text-align: left;background-color: #f0f8ff;}#sk-container-id-5 div.sk-toggleable__content pre {margin: 0.2em;color: black;border-radius: 0.25em;background-color: #f0f8ff;}#sk-container-id-5 input.sk-toggleable__control:checked~div.sk-toggleable__content {max-height: 200px;max-width: 100%;overflow: auto;}#sk-container-id-5 input.sk-toggleable__control:checked~label.sk-toggleable__label-arrow:before {content: \"▾\";}#sk-container-id-5 div.sk-estimator input.sk-toggleable__control:checked~label.sk-toggleable__label {background-color: #d4ebff;}#sk-container-id-5 div.sk-label input.sk-toggleable__control:checked~label.sk-toggleable__label {background-color: #d4ebff;}#sk-container-id-5 input.sk-hidden--visually {border: 0;clip: rect(1px 1px 1px 1px);clip: rect(1px, 1px, 1px, 1px);height: 1px;margin: -1px;overflow: hidden;padding: 0;position: absolute;width: 1px;}#sk-container-id-5 div.sk-estimator {font-family: monospace;background-color: #f0f8ff;border: 1px dotted black;border-radius: 0.25em;box-sizing: border-box;margin-bottom: 0.5em;}#sk-container-id-5 div.sk-estimator:hover {background-color: #d4ebff;}#sk-container-id-5 div.sk-parallel-item::after {content: \"\";width: 100%;border-bottom: 1px solid gray;flex-grow: 1;}#sk-container-id-5 div.sk-label:hover label.sk-toggleable__label {background-color: #d4ebff;}#sk-container-id-5 div.sk-serial::before {content: \"\";position: absolute;border-left: 1px solid gray;box-sizing: border-box;top: 0;bottom: 0;left: 50%;z-index: 0;}#sk-container-id-5 div.sk-serial {display: flex;flex-direction: column;align-items: center;background-color: white;padding-right: 0.2em;padding-left: 0.2em;position: relative;}#sk-container-id-5 div.sk-item {position: relative;z-index: 1;}#sk-container-id-5 div.sk-parallel {display: flex;align-items: stretch;justify-content: center;background-color: white;position: relative;}#sk-container-id-5 div.sk-item::before, #sk-container-id-5 div.sk-parallel-item::before {content: \"\";position: absolute;border-left: 1px solid gray;box-sizing: border-box;top: 0;bottom: 0;left: 50%;z-index: -1;}#sk-container-id-5 div.sk-parallel-item {display: flex;flex-direction: column;z-index: 1;position: relative;background-color: white;}#sk-container-id-5 div.sk-parallel-item:first-child::after {align-self: flex-end;width: 50%;}#sk-container-id-5 div.sk-parallel-item:last-child::after {align-self: flex-start;width: 50%;}#sk-container-id-5 div.sk-parallel-item:only-child::after {width: 0;}#sk-container-id-5 div.sk-dashed-wrapped {border: 1px dashed gray;margin: 0 0.4em 0.5em 0.4em;box-sizing: border-box;padding-bottom: 0.4em;background-color: white;}#sk-container-id-5 div.sk-label label {font-family: monospace;font-weight: bold;display: inline-block;line-height: 1.2em;}#sk-container-id-5 div.sk-label-container {text-align: center;}#sk-container-id-5 div.sk-container {/* jupyter's `normalize.less` sets `[hidden] { display: none; }` but bootstrap.min.css set `[hidden] { display: none !important; }` so we also need the `!important` here to be able to override the default hidden behavior on the sphinx rendered scikit-learn.org. See: https://github.com/scikit-learn/scikit-learn/issues/21755 */display: inline-block !important;position: relative;}#sk-container-id-5 div.sk-text-repr-fallback {display: none;}</style><div id=\"sk-container-id-5\" class=\"sk-top-container\"><div class=\"sk-text-repr-fallback\"><pre>MultinomialNB()</pre><b>In a Jupyter environment, please rerun this cell to show the HTML representation or trust the notebook. <br />On GitHub, the HTML representation is unable to render, please try loading this page with nbviewer.org.</b></div><div class=\"sk-container\" hidden><div class=\"sk-item\"><div class=\"sk-estimator sk-toggleable\"><input class=\"sk-toggleable__control sk-hidden--visually\" id=\"sk-estimator-id-10\" type=\"checkbox\" checked><label for=\"sk-estimator-id-10\" class=\"sk-toggleable__label sk-toggleable__label-arrow\">MultinomialNB</label><div class=\"sk-toggleable__content\"><pre>MultinomialNB()</pre></div></div></div></div></div>"
                        ],
                        "text/plain": [
                            "MultinomialNB()"
                        ]
                    },
                    "execution_count": 47,
                    "metadata": {},
                    "output_type": "execute_result"
                }
            ],
            "source": [
                "clf_3 = MultinomialNB()\n",
                "\n",
                "clf_3.fit(text_norm, y_train)"
            ]
        },
        {
            "cell_type": "code",
            "execution_count": 54,
            "metadata": {},
            "outputs": [
                {
                    "name": "stdout",
                    "output_type": "stream",
                    "text": [
                        "              precision    recall  f1-score   support\n",
                        "\n",
                        "           0       0.82      0.95      0.88       146\n",
                        "           1       0.87      0.61      0.72        77\n",
                        "\n",
                        "    accuracy                           0.83       223\n",
                        "   macro avg       0.85      0.78      0.80       223\n",
                        "weighted avg       0.84      0.83      0.83       223\n",
                        "\n",
                        "              precision    recall  f1-score   support\n",
                        "\n",
                        "           0       0.69      0.99      0.81       146\n",
                        "           1       0.92      0.14      0.25        77\n",
                        "\n",
                        "    accuracy                           0.70       223\n",
                        "   macro avg       0.80      0.57      0.53       223\n",
                        "weighted avg       0.77      0.70      0.62       223\n",
                        "\n",
                        "              precision    recall  f1-score   support\n",
                        "\n",
                        "           0       0.69      0.99      0.81       146\n",
                        "           1       0.92      0.14      0.25        77\n",
                        "\n",
                        "    accuracy                           0.70       223\n",
                        "   macro avg       0.80      0.57      0.53       223\n",
                        "weighted avg       0.77      0.70      0.62       223\n",
                        "\n"
                    ]
                }
            ],
            "source": [
                "pred_1 = clf_1.predict(vect.transform(X_test))\n",
                "pred_2 = clf_2.predict(vect_tfidf.transform(X_test))\n",
                "pred_3 = clf_3.predict(text_clf.transform(X_test))\n",
                "\n",
                "print(classification_report(y_test, pred_1))\n",
                "print(classification_report(y_test, pred_2))\n",
                "print(classification_report(y_test, pred_3))"
            ]
        },
        {
            "cell_type": "code",
            "execution_count": 55,
            "metadata": {},
            "outputs": [
                {
                    "data": {
                        "text/html": [
                            "<style>#sk-container-id-6 {color: black;background-color: white;}#sk-container-id-6 pre{padding: 0;}#sk-container-id-6 div.sk-toggleable {background-color: white;}#sk-container-id-6 label.sk-toggleable__label {cursor: pointer;display: block;width: 100%;margin-bottom: 0;padding: 0.3em;box-sizing: border-box;text-align: center;}#sk-container-id-6 label.sk-toggleable__label-arrow:before {content: \"▸\";float: left;margin-right: 0.25em;color: #696969;}#sk-container-id-6 label.sk-toggleable__label-arrow:hover:before {color: black;}#sk-container-id-6 div.sk-estimator:hover label.sk-toggleable__label-arrow:before {color: black;}#sk-container-id-6 div.sk-toggleable__content {max-height: 0;max-width: 0;overflow: hidden;text-align: left;background-color: #f0f8ff;}#sk-container-id-6 div.sk-toggleable__content pre {margin: 0.2em;color: black;border-radius: 0.25em;background-color: #f0f8ff;}#sk-container-id-6 input.sk-toggleable__control:checked~div.sk-toggleable__content {max-height: 200px;max-width: 100%;overflow: auto;}#sk-container-id-6 input.sk-toggleable__control:checked~label.sk-toggleable__label-arrow:before {content: \"▾\";}#sk-container-id-6 div.sk-estimator input.sk-toggleable__control:checked~label.sk-toggleable__label {background-color: #d4ebff;}#sk-container-id-6 div.sk-label input.sk-toggleable__control:checked~label.sk-toggleable__label {background-color: #d4ebff;}#sk-container-id-6 input.sk-hidden--visually {border: 0;clip: rect(1px 1px 1px 1px);clip: rect(1px, 1px, 1px, 1px);height: 1px;margin: -1px;overflow: hidden;padding: 0;position: absolute;width: 1px;}#sk-container-id-6 div.sk-estimator {font-family: monospace;background-color: #f0f8ff;border: 1px dotted black;border-radius: 0.25em;box-sizing: border-box;margin-bottom: 0.5em;}#sk-container-id-6 div.sk-estimator:hover {background-color: #d4ebff;}#sk-container-id-6 div.sk-parallel-item::after {content: \"\";width: 100%;border-bottom: 1px solid gray;flex-grow: 1;}#sk-container-id-6 div.sk-label:hover label.sk-toggleable__label {background-color: #d4ebff;}#sk-container-id-6 div.sk-serial::before {content: \"\";position: absolute;border-left: 1px solid gray;box-sizing: border-box;top: 0;bottom: 0;left: 50%;z-index: 0;}#sk-container-id-6 div.sk-serial {display: flex;flex-direction: column;align-items: center;background-color: white;padding-right: 0.2em;padding-left: 0.2em;position: relative;}#sk-container-id-6 div.sk-item {position: relative;z-index: 1;}#sk-container-id-6 div.sk-parallel {display: flex;align-items: stretch;justify-content: center;background-color: white;position: relative;}#sk-container-id-6 div.sk-item::before, #sk-container-id-6 div.sk-parallel-item::before {content: \"\";position: absolute;border-left: 1px solid gray;box-sizing: border-box;top: 0;bottom: 0;left: 50%;z-index: -1;}#sk-container-id-6 div.sk-parallel-item {display: flex;flex-direction: column;z-index: 1;position: relative;background-color: white;}#sk-container-id-6 div.sk-parallel-item:first-child::after {align-self: flex-end;width: 50%;}#sk-container-id-6 div.sk-parallel-item:last-child::after {align-self: flex-start;width: 50%;}#sk-container-id-6 div.sk-parallel-item:only-child::after {width: 0;}#sk-container-id-6 div.sk-dashed-wrapped {border: 1px dashed gray;margin: 0 0.4em 0.5em 0.4em;box-sizing: border-box;padding-bottom: 0.4em;background-color: white;}#sk-container-id-6 div.sk-label label {font-family: monospace;font-weight: bold;display: inline-block;line-height: 1.2em;}#sk-container-id-6 div.sk-label-container {text-align: center;}#sk-container-id-6 div.sk-container {/* jupyter's `normalize.less` sets `[hidden] { display: none; }` but bootstrap.min.css set `[hidden] { display: none !important; }` so we also need the `!important` here to be able to override the default hidden behavior on the sphinx rendered scikit-learn.org. See: https://github.com/scikit-learn/scikit-learn/issues/21755 */display: inline-block !important;position: relative;}#sk-container-id-6 div.sk-text-repr-fallback {display: none;}</style><div id=\"sk-container-id-6\" class=\"sk-top-container\"><div class=\"sk-text-repr-fallback\"><pre>Pipeline(steps=[(&#x27;vect&#x27;, CountVectorizer()), (&#x27;tfidf&#x27;, TfidfTransformer()),\n",
                            "                (&#x27;clf&#x27;, MultinomialNB())])</pre><b>In a Jupyter environment, please rerun this cell to show the HTML representation or trust the notebook. <br />On GitHub, the HTML representation is unable to render, please try loading this page with nbviewer.org.</b></div><div class=\"sk-container\" hidden><div class=\"sk-item sk-dashed-wrapped\"><div class=\"sk-label-container\"><div class=\"sk-label sk-toggleable\"><input class=\"sk-toggleable__control sk-hidden--visually\" id=\"sk-estimator-id-11\" type=\"checkbox\" ><label for=\"sk-estimator-id-11\" class=\"sk-toggleable__label sk-toggleable__label-arrow\">Pipeline</label><div class=\"sk-toggleable__content\"><pre>Pipeline(steps=[(&#x27;vect&#x27;, CountVectorizer()), (&#x27;tfidf&#x27;, TfidfTransformer()),\n",
                            "                (&#x27;clf&#x27;, MultinomialNB())])</pre></div></div></div><div class=\"sk-serial\"><div class=\"sk-item\"><div class=\"sk-estimator sk-toggleable\"><input class=\"sk-toggleable__control sk-hidden--visually\" id=\"sk-estimator-id-12\" type=\"checkbox\" ><label for=\"sk-estimator-id-12\" class=\"sk-toggleable__label sk-toggleable__label-arrow\">CountVectorizer</label><div class=\"sk-toggleable__content\"><pre>CountVectorizer()</pre></div></div></div><div class=\"sk-item\"><div class=\"sk-estimator sk-toggleable\"><input class=\"sk-toggleable__control sk-hidden--visually\" id=\"sk-estimator-id-13\" type=\"checkbox\" ><label for=\"sk-estimator-id-13\" class=\"sk-toggleable__label sk-toggleable__label-arrow\">TfidfTransformer</label><div class=\"sk-toggleable__content\"><pre>TfidfTransformer()</pre></div></div></div><div class=\"sk-item\"><div class=\"sk-estimator sk-toggleable\"><input class=\"sk-toggleable__control sk-hidden--visually\" id=\"sk-estimator-id-14\" type=\"checkbox\" ><label for=\"sk-estimator-id-14\" class=\"sk-toggleable__label sk-toggleable__label-arrow\">MultinomialNB</label><div class=\"sk-toggleable__content\"><pre>MultinomialNB()</pre></div></div></div></div></div></div></div>"
                        ],
                        "text/plain": [
                            "Pipeline(steps=[('vect', CountVectorizer()), ('tfidf', TfidfTransformer()),\n",
                            "                ('clf', MultinomialNB())])"
                        ]
                    },
                    "execution_count": 55,
                    "metadata": {},
                    "output_type": "execute_result"
                }
            ],
            "source": [
                "# Acá todo junto en un pipeline\n",
                "\n",
                "text_clf_2 = Pipeline([('vect', CountVectorizer()), ('tfidf', TfidfTransformer()), ('clf', MultinomialNB())])\n",
                "text_clf_2.fit(X_train, y_train)"
            ]
        },
        {
            "cell_type": "markdown",
            "metadata": {},
            "source": [
                "**4. Check results**"
            ]
        },
        {
            "cell_type": "code",
            "execution_count": 56,
            "metadata": {},
            "outputs": [
                {
                    "data": {
                        "text/plain": [
                            "(0.7664353672100255, 0.6995515695067265, 0.6171890028747934, None)"
                        ]
                    },
                    "execution_count": 56,
                    "metadata": {},
                    "output_type": "execute_result"
                }
            ],
            "source": [
                "y_pred = text_clf_2.predict(X_test)\n",
                "precision_recall_fscore_support(y_test, y_pred, average='weighted')"
            ]
        },
        {
            "cell_type": "code",
            "execution_count": 57,
            "metadata": {},
            "outputs": [
                {
                    "name": "stdout",
                    "output_type": "stream",
                    "text": [
                        "Naive Bayes Train Accuracy =  0.7889221556886228\n",
                        "Naive Bayes Test Accuracy =  0.6995515695067265\n"
                    ]
                }
            ],
            "source": [
                "print('Naive Bayes Train Accuracy = ',metrics.accuracy_score(y_train,text_clf_2.predict(X_train)))\n",
                "print('Naive Bayes Test Accuracy = ',metrics.accuracy_score(y_test,text_clf_2.predict(X_test)))"
            ]
        },
        {
            "cell_type": "markdown",
            "metadata": {},
            "source": [
                "**5. Randomized search to select hyperparameters**"
            ]
        },
        {
            "cell_type": "code",
            "execution_count": 58,
            "metadata": {},
            "outputs": [
                {
                    "data": {
                        "text/html": [
                            "<style>#sk-container-id-7 {color: black;background-color: white;}#sk-container-id-7 pre{padding: 0;}#sk-container-id-7 div.sk-toggleable {background-color: white;}#sk-container-id-7 label.sk-toggleable__label {cursor: pointer;display: block;width: 100%;margin-bottom: 0;padding: 0.3em;box-sizing: border-box;text-align: center;}#sk-container-id-7 label.sk-toggleable__label-arrow:before {content: \"▸\";float: left;margin-right: 0.25em;color: #696969;}#sk-container-id-7 label.sk-toggleable__label-arrow:hover:before {color: black;}#sk-container-id-7 div.sk-estimator:hover label.sk-toggleable__label-arrow:before {color: black;}#sk-container-id-7 div.sk-toggleable__content {max-height: 0;max-width: 0;overflow: hidden;text-align: left;background-color: #f0f8ff;}#sk-container-id-7 div.sk-toggleable__content pre {margin: 0.2em;color: black;border-radius: 0.25em;background-color: #f0f8ff;}#sk-container-id-7 input.sk-toggleable__control:checked~div.sk-toggleable__content {max-height: 200px;max-width: 100%;overflow: auto;}#sk-container-id-7 input.sk-toggleable__control:checked~label.sk-toggleable__label-arrow:before {content: \"▾\";}#sk-container-id-7 div.sk-estimator input.sk-toggleable__control:checked~label.sk-toggleable__label {background-color: #d4ebff;}#sk-container-id-7 div.sk-label input.sk-toggleable__control:checked~label.sk-toggleable__label {background-color: #d4ebff;}#sk-container-id-7 input.sk-hidden--visually {border: 0;clip: rect(1px 1px 1px 1px);clip: rect(1px, 1px, 1px, 1px);height: 1px;margin: -1px;overflow: hidden;padding: 0;position: absolute;width: 1px;}#sk-container-id-7 div.sk-estimator {font-family: monospace;background-color: #f0f8ff;border: 1px dotted black;border-radius: 0.25em;box-sizing: border-box;margin-bottom: 0.5em;}#sk-container-id-7 div.sk-estimator:hover {background-color: #d4ebff;}#sk-container-id-7 div.sk-parallel-item::after {content: \"\";width: 100%;border-bottom: 1px solid gray;flex-grow: 1;}#sk-container-id-7 div.sk-label:hover label.sk-toggleable__label {background-color: #d4ebff;}#sk-container-id-7 div.sk-serial::before {content: \"\";position: absolute;border-left: 1px solid gray;box-sizing: border-box;top: 0;bottom: 0;left: 50%;z-index: 0;}#sk-container-id-7 div.sk-serial {display: flex;flex-direction: column;align-items: center;background-color: white;padding-right: 0.2em;padding-left: 0.2em;position: relative;}#sk-container-id-7 div.sk-item {position: relative;z-index: 1;}#sk-container-id-7 div.sk-parallel {display: flex;align-items: stretch;justify-content: center;background-color: white;position: relative;}#sk-container-id-7 div.sk-item::before, #sk-container-id-7 div.sk-parallel-item::before {content: \"\";position: absolute;border-left: 1px solid gray;box-sizing: border-box;top: 0;bottom: 0;left: 50%;z-index: -1;}#sk-container-id-7 div.sk-parallel-item {display: flex;flex-direction: column;z-index: 1;position: relative;background-color: white;}#sk-container-id-7 div.sk-parallel-item:first-child::after {align-self: flex-end;width: 50%;}#sk-container-id-7 div.sk-parallel-item:last-child::after {align-self: flex-start;width: 50%;}#sk-container-id-7 div.sk-parallel-item:only-child::after {width: 0;}#sk-container-id-7 div.sk-dashed-wrapped {border: 1px dashed gray;margin: 0 0.4em 0.5em 0.4em;box-sizing: border-box;padding-bottom: 0.4em;background-color: white;}#sk-container-id-7 div.sk-label label {font-family: monospace;font-weight: bold;display: inline-block;line-height: 1.2em;}#sk-container-id-7 div.sk-label-container {text-align: center;}#sk-container-id-7 div.sk-container {/* jupyter's `normalize.less` sets `[hidden] { display: none; }` but bootstrap.min.css set `[hidden] { display: none !important; }` so we also need the `!important` here to be able to override the default hidden behavior on the sphinx rendered scikit-learn.org. See: https://github.com/scikit-learn/scikit-learn/issues/21755 */display: inline-block !important;position: relative;}#sk-container-id-7 div.sk-text-repr-fallback {display: none;}</style><div id=\"sk-container-id-7\" class=\"sk-top-container\"><div class=\"sk-text-repr-fallback\"><pre>RandomizedSearchCV(estimator=Pipeline(steps=[(&#x27;vect&#x27;, CountVectorizer()),\n",
                            "                                             (&#x27;tfidf&#x27;, TfidfTransformer()),\n",
                            "                                             (&#x27;clf&#x27;, MultinomialNB())]),\n",
                            "                   n_iter=5,\n",
                            "                   param_distributions={&#x27;clf__alpha&#x27;: (0.01, 0.001),\n",
                            "                                        &#x27;tfidf__use_idf&#x27;: (True, False),\n",
                            "                                        &#x27;vect__ngram_range&#x27;: [(1, 1), (1, 2)]})</pre><b>In a Jupyter environment, please rerun this cell to show the HTML representation or trust the notebook. <br />On GitHub, the HTML representation is unable to render, please try loading this page with nbviewer.org.</b></div><div class=\"sk-container\" hidden><div class=\"sk-item sk-dashed-wrapped\"><div class=\"sk-label-container\"><div class=\"sk-label sk-toggleable\"><input class=\"sk-toggleable__control sk-hidden--visually\" id=\"sk-estimator-id-15\" type=\"checkbox\" ><label for=\"sk-estimator-id-15\" class=\"sk-toggleable__label sk-toggleable__label-arrow\">RandomizedSearchCV</label><div class=\"sk-toggleable__content\"><pre>RandomizedSearchCV(estimator=Pipeline(steps=[(&#x27;vect&#x27;, CountVectorizer()),\n",
                            "                                             (&#x27;tfidf&#x27;, TfidfTransformer()),\n",
                            "                                             (&#x27;clf&#x27;, MultinomialNB())]),\n",
                            "                   n_iter=5,\n",
                            "                   param_distributions={&#x27;clf__alpha&#x27;: (0.01, 0.001),\n",
                            "                                        &#x27;tfidf__use_idf&#x27;: (True, False),\n",
                            "                                        &#x27;vect__ngram_range&#x27;: [(1, 1), (1, 2)]})</pre></div></div></div><div class=\"sk-parallel\"><div class=\"sk-parallel-item\"><div class=\"sk-item\"><div class=\"sk-label-container\"><div class=\"sk-label sk-toggleable\"><input class=\"sk-toggleable__control sk-hidden--visually\" id=\"sk-estimator-id-16\" type=\"checkbox\" ><label for=\"sk-estimator-id-16\" class=\"sk-toggleable__label sk-toggleable__label-arrow\">estimator: Pipeline</label><div class=\"sk-toggleable__content\"><pre>Pipeline(steps=[(&#x27;vect&#x27;, CountVectorizer()), (&#x27;tfidf&#x27;, TfidfTransformer()),\n",
                            "                (&#x27;clf&#x27;, MultinomialNB())])</pre></div></div></div><div class=\"sk-serial\"><div class=\"sk-item\"><div class=\"sk-serial\"><div class=\"sk-item\"><div class=\"sk-estimator sk-toggleable\"><input class=\"sk-toggleable__control sk-hidden--visually\" id=\"sk-estimator-id-17\" type=\"checkbox\" ><label for=\"sk-estimator-id-17\" class=\"sk-toggleable__label sk-toggleable__label-arrow\">CountVectorizer</label><div class=\"sk-toggleable__content\"><pre>CountVectorizer()</pre></div></div></div><div class=\"sk-item\"><div class=\"sk-estimator sk-toggleable\"><input class=\"sk-toggleable__control sk-hidden--visually\" id=\"sk-estimator-id-18\" type=\"checkbox\" ><label for=\"sk-estimator-id-18\" class=\"sk-toggleable__label sk-toggleable__label-arrow\">TfidfTransformer</label><div class=\"sk-toggleable__content\"><pre>TfidfTransformer()</pre></div></div></div><div class=\"sk-item\"><div class=\"sk-estimator sk-toggleable\"><input class=\"sk-toggleable__control sk-hidden--visually\" id=\"sk-estimator-id-19\" type=\"checkbox\" ><label for=\"sk-estimator-id-19\" class=\"sk-toggleable__label sk-toggleable__label-arrow\">MultinomialNB</label><div class=\"sk-toggleable__content\"><pre>MultinomialNB()</pre></div></div></div></div></div></div></div></div></div></div></div></div>"
                        ],
                        "text/plain": [
                            "RandomizedSearchCV(estimator=Pipeline(steps=[('vect', CountVectorizer()),\n",
                            "                                             ('tfidf', TfidfTransformer()),\n",
                            "                                             ('clf', MultinomialNB())]),\n",
                            "                   n_iter=5,\n",
                            "                   param_distributions={'clf__alpha': (0.01, 0.001),\n",
                            "                                        'tfidf__use_idf': (True, False),\n",
                            "                                        'vect__ngram_range': [(1, 1), (1, 2)]})"
                        ]
                    },
                    "execution_count": 58,
                    "metadata": {},
                    "output_type": "execute_result"
                }
            ],
            "source": [
                "n_iter_search = 5\n",
                "parameters = {'vect__ngram_range': [(1, 1), (1, 2)], 'tfidf__use_idf': (True, False), 'clf__alpha': (1e-2, 1e-3)}\n",
                "gs_clf = RandomizedSearchCV(text_clf_2, parameters, n_iter = n_iter_search)\n",
                "gs_clf.fit(X_train, y_train)"
            ]
        },
        {
            "cell_type": "code",
            "execution_count": 59,
            "metadata": {},
            "outputs": [
                {
                    "data": {
                        "text/plain": [
                            "{'vect__ngram_range': (1, 2), 'tfidf__use_idf': False, 'clf__alpha': 0.01}"
                        ]
                    },
                    "execution_count": 59,
                    "metadata": {},
                    "output_type": "execute_result"
                }
            ],
            "source": [
                "gs_clf.best_params_"
            ]
        },
        {
            "cell_type": "code",
            "execution_count": 60,
            "metadata": {},
            "outputs": [
                {
                    "name": "stdout",
                    "output_type": "stream",
                    "text": [
                        "Naive Bayes Train Accuracy (grid random search) =  0.9985029940119761\n",
                        "Naive Bayes Test Accuracy (grid random search) =  0.8609865470852018\n"
                    ]
                }
            ],
            "source": [
                "print('Naive Bayes Train Accuracy (grid random search) = ',metrics.accuracy_score(y_train,gs_clf.predict(X_train)))\n",
                "print('Naive Bayes Test Accuracy (grid random search) = ',metrics.accuracy_score(y_test,gs_clf.predict(X_test)))"
            ]
        },
        {
            "cell_type": "code",
            "execution_count": 61,
            "metadata": {},
            "outputs": [
                {
                    "name": "stderr",
                    "output_type": "stream",
                    "text": [
                        "/home/gitpod/.pyenv/versions/3.8.13/lib/python3.8/site-packages/sklearn/model_selection/_search.py:306: UserWarning: The total space of parameters 4 is smaller than n_iter=5. Running 4 iterations. For exhaustive searches, use GridSearchCV.\n",
                        "  warnings.warn(\n"
                    ]
                },
                {
                    "data": {
                        "text/html": [
                            "<style>#sk-container-id-8 {color: black;background-color: white;}#sk-container-id-8 pre{padding: 0;}#sk-container-id-8 div.sk-toggleable {background-color: white;}#sk-container-id-8 label.sk-toggleable__label {cursor: pointer;display: block;width: 100%;margin-bottom: 0;padding: 0.3em;box-sizing: border-box;text-align: center;}#sk-container-id-8 label.sk-toggleable__label-arrow:before {content: \"▸\";float: left;margin-right: 0.25em;color: #696969;}#sk-container-id-8 label.sk-toggleable__label-arrow:hover:before {color: black;}#sk-container-id-8 div.sk-estimator:hover label.sk-toggleable__label-arrow:before {color: black;}#sk-container-id-8 div.sk-toggleable__content {max-height: 0;max-width: 0;overflow: hidden;text-align: left;background-color: #f0f8ff;}#sk-container-id-8 div.sk-toggleable__content pre {margin: 0.2em;color: black;border-radius: 0.25em;background-color: #f0f8ff;}#sk-container-id-8 input.sk-toggleable__control:checked~div.sk-toggleable__content {max-height: 200px;max-width: 100%;overflow: auto;}#sk-container-id-8 input.sk-toggleable__control:checked~label.sk-toggleable__label-arrow:before {content: \"▾\";}#sk-container-id-8 div.sk-estimator input.sk-toggleable__control:checked~label.sk-toggleable__label {background-color: #d4ebff;}#sk-container-id-8 div.sk-label input.sk-toggleable__control:checked~label.sk-toggleable__label {background-color: #d4ebff;}#sk-container-id-8 input.sk-hidden--visually {border: 0;clip: rect(1px 1px 1px 1px);clip: rect(1px, 1px, 1px, 1px);height: 1px;margin: -1px;overflow: hidden;padding: 0;position: absolute;width: 1px;}#sk-container-id-8 div.sk-estimator {font-family: monospace;background-color: #f0f8ff;border: 1px dotted black;border-radius: 0.25em;box-sizing: border-box;margin-bottom: 0.5em;}#sk-container-id-8 div.sk-estimator:hover {background-color: #d4ebff;}#sk-container-id-8 div.sk-parallel-item::after {content: \"\";width: 100%;border-bottom: 1px solid gray;flex-grow: 1;}#sk-container-id-8 div.sk-label:hover label.sk-toggleable__label {background-color: #d4ebff;}#sk-container-id-8 div.sk-serial::before {content: \"\";position: absolute;border-left: 1px solid gray;box-sizing: border-box;top: 0;bottom: 0;left: 50%;z-index: 0;}#sk-container-id-8 div.sk-serial {display: flex;flex-direction: column;align-items: center;background-color: white;padding-right: 0.2em;padding-left: 0.2em;position: relative;}#sk-container-id-8 div.sk-item {position: relative;z-index: 1;}#sk-container-id-8 div.sk-parallel {display: flex;align-items: stretch;justify-content: center;background-color: white;position: relative;}#sk-container-id-8 div.sk-item::before, #sk-container-id-8 div.sk-parallel-item::before {content: \"\";position: absolute;border-left: 1px solid gray;box-sizing: border-box;top: 0;bottom: 0;left: 50%;z-index: -1;}#sk-container-id-8 div.sk-parallel-item {display: flex;flex-direction: column;z-index: 1;position: relative;background-color: white;}#sk-container-id-8 div.sk-parallel-item:first-child::after {align-self: flex-end;width: 50%;}#sk-container-id-8 div.sk-parallel-item:last-child::after {align-self: flex-start;width: 50%;}#sk-container-id-8 div.sk-parallel-item:only-child::after {width: 0;}#sk-container-id-8 div.sk-dashed-wrapped {border: 1px dashed gray;margin: 0 0.4em 0.5em 0.4em;box-sizing: border-box;padding-bottom: 0.4em;background-color: white;}#sk-container-id-8 div.sk-label label {font-family: monospace;font-weight: bold;display: inline-block;line-height: 1.2em;}#sk-container-id-8 div.sk-label-container {text-align: center;}#sk-container-id-8 div.sk-container {/* jupyter's `normalize.less` sets `[hidden] { display: none; }` but bootstrap.min.css set `[hidden] { display: none !important; }` so we also need the `!important` here to be able to override the default hidden behavior on the sphinx rendered scikit-learn.org. See: https://github.com/scikit-learn/scikit-learn/issues/21755 */display: inline-block !important;position: relative;}#sk-container-id-8 div.sk-text-repr-fallback {display: none;}</style><div id=\"sk-container-id-8\" class=\"sk-top-container\"><div class=\"sk-text-repr-fallback\"><pre>RandomizedSearchCV(estimator=Pipeline(steps=[(&#x27;vect&#x27;, CountVectorizer()),\n",
                            "                                             (&#x27;clf&#x27;, MultinomialNB())]),\n",
                            "                   n_iter=5,\n",
                            "                   param_distributions={&#x27;clf__alpha&#x27;: (0.01, 0.001),\n",
                            "                                        &#x27;vect__ngram_range&#x27;: [(1, 1), (1, 2)]})</pre><b>In a Jupyter environment, please rerun this cell to show the HTML representation or trust the notebook. <br />On GitHub, the HTML representation is unable to render, please try loading this page with nbviewer.org.</b></div><div class=\"sk-container\" hidden><div class=\"sk-item sk-dashed-wrapped\"><div class=\"sk-label-container\"><div class=\"sk-label sk-toggleable\"><input class=\"sk-toggleable__control sk-hidden--visually\" id=\"sk-estimator-id-20\" type=\"checkbox\" ><label for=\"sk-estimator-id-20\" class=\"sk-toggleable__label sk-toggleable__label-arrow\">RandomizedSearchCV</label><div class=\"sk-toggleable__content\"><pre>RandomizedSearchCV(estimator=Pipeline(steps=[(&#x27;vect&#x27;, CountVectorizer()),\n",
                            "                                             (&#x27;clf&#x27;, MultinomialNB())]),\n",
                            "                   n_iter=5,\n",
                            "                   param_distributions={&#x27;clf__alpha&#x27;: (0.01, 0.001),\n",
                            "                                        &#x27;vect__ngram_range&#x27;: [(1, 1), (1, 2)]})</pre></div></div></div><div class=\"sk-parallel\"><div class=\"sk-parallel-item\"><div class=\"sk-item\"><div class=\"sk-label-container\"><div class=\"sk-label sk-toggleable\"><input class=\"sk-toggleable__control sk-hidden--visually\" id=\"sk-estimator-id-21\" type=\"checkbox\" ><label for=\"sk-estimator-id-21\" class=\"sk-toggleable__label sk-toggleable__label-arrow\">estimator: Pipeline</label><div class=\"sk-toggleable__content\"><pre>Pipeline(steps=[(&#x27;vect&#x27;, CountVectorizer()), (&#x27;clf&#x27;, MultinomialNB())])</pre></div></div></div><div class=\"sk-serial\"><div class=\"sk-item\"><div class=\"sk-serial\"><div class=\"sk-item\"><div class=\"sk-estimator sk-toggleable\"><input class=\"sk-toggleable__control sk-hidden--visually\" id=\"sk-estimator-id-22\" type=\"checkbox\" ><label for=\"sk-estimator-id-22\" class=\"sk-toggleable__label sk-toggleable__label-arrow\">CountVectorizer</label><div class=\"sk-toggleable__content\"><pre>CountVectorizer()</pre></div></div></div><div class=\"sk-item\"><div class=\"sk-estimator sk-toggleable\"><input class=\"sk-toggleable__control sk-hidden--visually\" id=\"sk-estimator-id-23\" type=\"checkbox\" ><label for=\"sk-estimator-id-23\" class=\"sk-toggleable__label sk-toggleable__label-arrow\">MultinomialNB</label><div class=\"sk-toggleable__content\"><pre>MultinomialNB()</pre></div></div></div></div></div></div></div></div></div></div></div></div>"
                        ],
                        "text/plain": [
                            "RandomizedSearchCV(estimator=Pipeline(steps=[('vect', CountVectorizer()),\n",
                            "                                             ('clf', MultinomialNB())]),\n",
                            "                   n_iter=5,\n",
                            "                   param_distributions={'clf__alpha': (0.01, 0.001),\n",
                            "                                        'vect__ngram_range': [(1, 1), (1, 2)]})"
                        ]
                    },
                    "execution_count": 61,
                    "metadata": {},
                    "output_type": "execute_result"
                }
            ],
            "source": [
                "text_clf_count_vect = Pipeline([('vect', CountVectorizer()), ('clf', MultinomialNB())])\n",
                "text_clf_count_vect.fit(X_train, y_train)\n",
                "\n",
                "\n",
                "n_iter_search = 5\n",
                "parameters = {'vect__ngram_range': [(1, 1), (1, 2)], 'clf__alpha': (1e-2, 1e-3)}\n",
                "gs_count_vect = RandomizedSearchCV(text_clf_count_vect, parameters, n_iter = n_iter_search)\n",
                "gs_count_vect.fit(X_train, y_train)"
            ]
        },
        {
            "cell_type": "code",
            "execution_count": 62,
            "metadata": {},
            "outputs": [
                {
                    "data": {
                        "text/plain": [
                            "{'vect__ngram_range': (1, 1), 'clf__alpha': 0.01}"
                        ]
                    },
                    "execution_count": 62,
                    "metadata": {},
                    "output_type": "execute_result"
                }
            ],
            "source": [
                "gs_count_vect.best_params_"
            ]
        },
        {
            "cell_type": "code",
            "execution_count": 63,
            "metadata": {},
            "outputs": [
                {
                    "name": "stdout",
                    "output_type": "stream",
                    "text": [
                        "Naive Bayes Train Accuracy (grid random search) =  0.9910179640718563\n",
                        "Naive Bayes Test Accuracy (grid random search) =  0.8251121076233184\n"
                    ]
                }
            ],
            "source": [
                "print('Naive Bayes Train Accuracy (grid random search) = ',metrics.accuracy_score(y_train,gs_count_vect.predict(X_train)))\n",
                "print('Naive Bayes Test Accuracy (grid random search) = ',metrics.accuracy_score(y_test,gs_count_vect.predict(X_test)))"
            ]
        },
        {
            "cell_type": "code",
            "execution_count": 64,
            "metadata": {},
            "outputs": [
                {
                    "name": "stdout",
                    "output_type": "stream",
                    "text": [
                        "              precision    recall  f1-score   support\n",
                        "\n",
                        "           0       0.84      0.97      0.90       146\n",
                        "           1       0.91      0.66      0.77        77\n",
                        "\n",
                        "    accuracy                           0.86       223\n",
                        "   macro avg       0.88      0.81      0.83       223\n",
                        "weighted avg       0.87      0.86      0.85       223\n",
                        "\n"
                    ]
                }
            ],
            "source": [
                "y_pred_mejor = gs_clf.predict(X_test)\n",
                "\n",
                "print(classification_report(y_test, y_pred_mejor))"
            ]
        },
        {
            "cell_type": "code",
            "execution_count": 66,
            "metadata": {},
            "outputs": [
                {
                    "data": {
                        "text/html": [
                            "<style>#sk-container-id-9 {color: black;background-color: white;}#sk-container-id-9 pre{padding: 0;}#sk-container-id-9 div.sk-toggleable {background-color: white;}#sk-container-id-9 label.sk-toggleable__label {cursor: pointer;display: block;width: 100%;margin-bottom: 0;padding: 0.3em;box-sizing: border-box;text-align: center;}#sk-container-id-9 label.sk-toggleable__label-arrow:before {content: \"▸\";float: left;margin-right: 0.25em;color: #696969;}#sk-container-id-9 label.sk-toggleable__label-arrow:hover:before {color: black;}#sk-container-id-9 div.sk-estimator:hover label.sk-toggleable__label-arrow:before {color: black;}#sk-container-id-9 div.sk-toggleable__content {max-height: 0;max-width: 0;overflow: hidden;text-align: left;background-color: #f0f8ff;}#sk-container-id-9 div.sk-toggleable__content pre {margin: 0.2em;color: black;border-radius: 0.25em;background-color: #f0f8ff;}#sk-container-id-9 input.sk-toggleable__control:checked~div.sk-toggleable__content {max-height: 200px;max-width: 100%;overflow: auto;}#sk-container-id-9 input.sk-toggleable__control:checked~label.sk-toggleable__label-arrow:before {content: \"▾\";}#sk-container-id-9 div.sk-estimator input.sk-toggleable__control:checked~label.sk-toggleable__label {background-color: #d4ebff;}#sk-container-id-9 div.sk-label input.sk-toggleable__control:checked~label.sk-toggleable__label {background-color: #d4ebff;}#sk-container-id-9 input.sk-hidden--visually {border: 0;clip: rect(1px 1px 1px 1px);clip: rect(1px, 1px, 1px, 1px);height: 1px;margin: -1px;overflow: hidden;padding: 0;position: absolute;width: 1px;}#sk-container-id-9 div.sk-estimator {font-family: monospace;background-color: #f0f8ff;border: 1px dotted black;border-radius: 0.25em;box-sizing: border-box;margin-bottom: 0.5em;}#sk-container-id-9 div.sk-estimator:hover {background-color: #d4ebff;}#sk-container-id-9 div.sk-parallel-item::after {content: \"\";width: 100%;border-bottom: 1px solid gray;flex-grow: 1;}#sk-container-id-9 div.sk-label:hover label.sk-toggleable__label {background-color: #d4ebff;}#sk-container-id-9 div.sk-serial::before {content: \"\";position: absolute;border-left: 1px solid gray;box-sizing: border-box;top: 0;bottom: 0;left: 50%;z-index: 0;}#sk-container-id-9 div.sk-serial {display: flex;flex-direction: column;align-items: center;background-color: white;padding-right: 0.2em;padding-left: 0.2em;position: relative;}#sk-container-id-9 div.sk-item {position: relative;z-index: 1;}#sk-container-id-9 div.sk-parallel {display: flex;align-items: stretch;justify-content: center;background-color: white;position: relative;}#sk-container-id-9 div.sk-item::before, #sk-container-id-9 div.sk-parallel-item::before {content: \"\";position: absolute;border-left: 1px solid gray;box-sizing: border-box;top: 0;bottom: 0;left: 50%;z-index: -1;}#sk-container-id-9 div.sk-parallel-item {display: flex;flex-direction: column;z-index: 1;position: relative;background-color: white;}#sk-container-id-9 div.sk-parallel-item:first-child::after {align-self: flex-end;width: 50%;}#sk-container-id-9 div.sk-parallel-item:last-child::after {align-self: flex-start;width: 50%;}#sk-container-id-9 div.sk-parallel-item:only-child::after {width: 0;}#sk-container-id-9 div.sk-dashed-wrapped {border: 1px dashed gray;margin: 0 0.4em 0.5em 0.4em;box-sizing: border-box;padding-bottom: 0.4em;background-color: white;}#sk-container-id-9 div.sk-label label {font-family: monospace;font-weight: bold;display: inline-block;line-height: 1.2em;}#sk-container-id-9 div.sk-label-container {text-align: center;}#sk-container-id-9 div.sk-container {/* jupyter's `normalize.less` sets `[hidden] { display: none; }` but bootstrap.min.css set `[hidden] { display: none !important; }` so we also need the `!important` here to be able to override the default hidden behavior on the sphinx rendered scikit-learn.org. See: https://github.com/scikit-learn/scikit-learn/issues/21755 */display: inline-block !important;position: relative;}#sk-container-id-9 div.sk-text-repr-fallback {display: none;}</style><div id=\"sk-container-id-9\" class=\"sk-top-container\"><div class=\"sk-text-repr-fallback\"><pre>Pipeline(steps=[(&#x27;vect&#x27;, CountVectorizer(ngram_range=(1, 2))),\n",
                            "                (&#x27;tfidf&#x27;, TfidfTransformer(use_idf=False)),\n",
                            "                (&#x27;clf&#x27;, MultinomialNB(alpha=0.01))])</pre><b>In a Jupyter environment, please rerun this cell to show the HTML representation or trust the notebook. <br />On GitHub, the HTML representation is unable to render, please try loading this page with nbviewer.org.</b></div><div class=\"sk-container\" hidden><div class=\"sk-item sk-dashed-wrapped\"><div class=\"sk-label-container\"><div class=\"sk-label sk-toggleable\"><input class=\"sk-toggleable__control sk-hidden--visually\" id=\"sk-estimator-id-24\" type=\"checkbox\" ><label for=\"sk-estimator-id-24\" class=\"sk-toggleable__label sk-toggleable__label-arrow\">Pipeline</label><div class=\"sk-toggleable__content\"><pre>Pipeline(steps=[(&#x27;vect&#x27;, CountVectorizer(ngram_range=(1, 2))),\n",
                            "                (&#x27;tfidf&#x27;, TfidfTransformer(use_idf=False)),\n",
                            "                (&#x27;clf&#x27;, MultinomialNB(alpha=0.01))])</pre></div></div></div><div class=\"sk-serial\"><div class=\"sk-item\"><div class=\"sk-estimator sk-toggleable\"><input class=\"sk-toggleable__control sk-hidden--visually\" id=\"sk-estimator-id-25\" type=\"checkbox\" ><label for=\"sk-estimator-id-25\" class=\"sk-toggleable__label sk-toggleable__label-arrow\">CountVectorizer</label><div class=\"sk-toggleable__content\"><pre>CountVectorizer(ngram_range=(1, 2))</pre></div></div></div><div class=\"sk-item\"><div class=\"sk-estimator sk-toggleable\"><input class=\"sk-toggleable__control sk-hidden--visually\" id=\"sk-estimator-id-26\" type=\"checkbox\" ><label for=\"sk-estimator-id-26\" class=\"sk-toggleable__label sk-toggleable__label-arrow\">TfidfTransformer</label><div class=\"sk-toggleable__content\"><pre>TfidfTransformer(use_idf=False)</pre></div></div></div><div class=\"sk-item\"><div class=\"sk-estimator sk-toggleable\"><input class=\"sk-toggleable__control sk-hidden--visually\" id=\"sk-estimator-id-27\" type=\"checkbox\" ><label for=\"sk-estimator-id-27\" class=\"sk-toggleable__label sk-toggleable__label-arrow\">MultinomialNB</label><div class=\"sk-toggleable__content\"><pre>MultinomialNB(alpha=0.01)</pre></div></div></div></div></div></div></div>"
                        ],
                        "text/plain": [
                            "Pipeline(steps=[('vect', CountVectorizer(ngram_range=(1, 2))),\n",
                            "                ('tfidf', TfidfTransformer(use_idf=False)),\n",
                            "                ('clf', MultinomialNB(alpha=0.01))])"
                        ]
                    },
                    "execution_count": 66,
                    "metadata": {},
                    "output_type": "execute_result"
                }
            ],
            "source": [
                "best_model = gs_clf.best_estimator_\n",
                "best_model"
            ]
        },
        {
            "cell_type": "code",
            "execution_count": 71,
            "metadata": {},
            "outputs": [],
            "source": [
                "# Save best model\n",
                "\n",
                "pickle.dump(best_model, open('../models/best_model.pickle', 'wb'))"
            ]
        },
        {
            "cell_type": "code",
            "execution_count": 73,
            "metadata": {},
            "outputs": [
                {
                    "data": {
                        "text/plain": [
                            "array([0, 0, 0, 0, 0, 0, 1, 0, 1, 0, 0, 1, 0, 0, 1, 0, 0, 0, 1, 0, 0, 0,\n",
                            "       0, 1, 0, 0, 1, 0, 0, 0, 1, 1, 1, 1, 0, 0, 0, 0, 0, 1, 1, 0, 0, 0,\n",
                            "       1, 0, 0, 0, 0, 1, 0, 1, 0, 0, 0, 0, 0, 0, 0, 0, 0, 0, 0, 0, 1, 0,\n",
                            "       0, 1, 0, 1, 0, 0, 0, 0, 1, 0, 0, 0, 0, 0, 0, 1, 0, 0, 1, 0, 0, 0,\n",
                            "       0, 0, 0, 1, 0, 0, 0, 1, 1, 0, 0, 0, 0, 0, 1, 0, 1, 0, 0, 0, 0, 0,\n",
                            "       0, 1, 0, 1, 0, 1, 0, 0, 0, 0, 0, 0, 0, 0, 0, 1, 0, 1, 1, 1, 0, 0,\n",
                            "       1, 1, 0, 1, 0, 0, 0, 1, 0, 0, 0, 1, 0, 0, 1, 0, 0, 0, 0, 1, 0, 1,\n",
                            "       0, 0, 0, 1, 0, 0, 0, 0, 0, 1, 0, 0, 0, 0, 0, 0, 0, 0, 0, 1, 0, 1,\n",
                            "       0, 0, 0, 0, 0, 0, 0, 0, 0, 0, 0, 0, 1, 0, 0, 0, 0, 0, 1, 1, 0, 1,\n",
                            "       0, 1, 0, 0, 0, 0, 0, 0, 0, 0, 1, 0, 0, 0, 1, 1, 0, 0, 1, 0, 0, 0,\n",
                            "       0, 1, 0])"
                        ]
                    },
                    "execution_count": 73,
                    "metadata": {},
                    "output_type": "execute_result"
                }
            ],
            "source": [
                "modelo = pickle.load(open('../models/best_model.pickle', 'rb')) # lo leemos\n",
                "modelo.predict(X_test) # lo usamos para predecir nueva X_test"
            ]
        }
    ],
    "metadata": {
        "kernelspec": {
            "display_name": "Python 3.8.13 64-bit ('3.8.13')",
            "language": "python",
            "name": "python3"
        },
        "language_info": {
            "codemirror_mode": {
                "name": "ipython",
                "version": 3
            },
            "file_extension": ".py",
            "mimetype": "text/x-python",
            "name": "python",
            "nbconvert_exporter": "python",
            "pygments_lexer": "ipython3",
            "version": "3.8.13"
        },
        "orig_nbformat": 4,
        "vscode": {
            "interpreter": {
                "hash": "110cc1dee26208153f2972f08a2ad52b6a56238dc66d48e87fb757ef2996db56"
            }
        }
    },
    "nbformat": 4,
    "nbformat_minor": 2
}
